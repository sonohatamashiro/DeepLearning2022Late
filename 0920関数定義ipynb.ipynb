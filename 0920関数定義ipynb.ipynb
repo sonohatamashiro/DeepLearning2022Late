{
  "nbformat": 4,
  "nbformat_minor": 0,
  "metadata": {
    "colab": {
      "provenance": [],
      "collapsed_sections": [],
      "authorship_tag": "ABX9TyNzp/PbKqkuRCKzEhSrha05",
      "include_colab_link": true
    },
    "kernelspec": {
      "name": "python3",
      "display_name": "Python 3"
    },
    "language_info": {
      "name": "python"
    }
  },
  "cells": [
    {
      "cell_type": "markdown",
      "metadata": {
        "id": "view-in-github",
        "colab_type": "text"
      },
      "source": [
        "<a href=\"https://colab.research.google.com/github/sonohatamashiro/DeepLearning2022Late/blob/main/0920%E9%96%A2%E6%95%B0%E5%AE%9A%E7%BE%A9ipynb.ipynb\" target=\"_parent\"><img src=\"https://colab.research.google.com/assets/colab-badge.svg\" alt=\"Open In Colab\"/></a>"
      ]
    },
    {
      "cell_type": "markdown",
      "source": [
        "# python3で関数を定義する\n",
        "###関数定義"
      ],
      "metadata": {
        "id": "uIwI1orMblSO"
      }
    },
    {
      "cell_type": "code",
      "execution_count": 1,
      "metadata": {
        "id": "4gMoBLVJbi8M"
      },
      "outputs": [],
      "source": [
        "# helloという関数を定義する\n",
        "# \"hello,kansuu!\" と画面表示する関数\n",
        "def hello():\n",
        "  print('hello,kansuu!') # インデントされている\n",
        "  # インデントされている命令文などは関数の範囲の中\n",
        "\n",
        "#helloの関数で出てくるのは上の3～5行目まで。。。\n",
        "\n",
        "  print('test message!') # インデントされていない\n",
        "  # インデントされていない命令文などは関数の範囲の外\n"
      ]
    },
    {
      "cell_type": "markdown",
      "source": [
        "## 関数を実行する"
      ],
      "metadata": {
        "id": "xKIP_p6aeRLI"
      }
    },
    {
      "cell_type": "code",
      "source": [
        "# 作成した関数hello() をコールする\n",
        "hello()\n",
        "hello()"
      ],
      "metadata": {
        "colab": {
          "base_uri": "https://localhost:8080/"
        },
        "id": "wIcLmk-WeP3T",
        "outputId": "268b395f-2d62-497a-a88d-1c60137bc444"
      },
      "execution_count": 2,
      "outputs": [
        {
          "output_type": "stream",
          "name": "stdout",
          "text": [
            "hello,kansuu!\n",
            "test message!\n",
            "hello,kansuu!\n",
            "test message!\n"
          ]
        }
      ]
    },
    {
      "cell_type": "markdown",
      "source": [
        "### 引数月の関数を定義する"
      ],
      "metadata": {
        "id": "PNM6K9_kfWUG"
      }
    },
    {
      "cell_type": "code",
      "source": [
        "# 引数付きの関数 hello() を定義\n",
        "def hello(who):\n",
        "  print('hello,' + who + '!')\n",
        "# ここが関数の終わり\n",
        "\n",
        "hello('python!')"
      ],
      "metadata": {
        "colab": {
          "base_uri": "https://localhost:8080/"
        },
        "id": "Enj8Z0QLfVWc",
        "outputId": "ac5f1916-1189-4fcd-d2d2-dabb831482a6"
      },
      "execution_count": 3,
      "outputs": [
        {
          "output_type": "stream",
          "name": "stdout",
          "text": [
            "hello,python!!\n"
          ]
        }
      ]
    },
    {
      "cell_type": "markdown",
      "source": [
        "### 複数の引数つきの関数を定義"
      ],
      "metadata": {
        "id": "8iYUR8z2gOSP"
      }
    },
    {
      "cell_type": "code",
      "source": [
        "def hello(who, aisatsu):\n",
        "  print('hello,' + who + 'さん' + aisatsu)\n",
        "#関数終わり\n",
        "\n",
        "hello('田中','おはよう')\n",
        "hello('鈴木','こんにちは')"
      ],
      "metadata": {
        "colab": {
          "base_uri": "https://localhost:8080/"
        },
        "id": "03HPJjXogNjl",
        "outputId": "88bd73bb-f526-41ac-a51c-66f140635deb"
      },
      "execution_count": 4,
      "outputs": [
        {
          "output_type": "stream",
          "name": "stdout",
          "text": [
            "hello,田中さんおはよう\n",
            "hello,鈴木さんこんにちは\n"
          ]
        }
      ]
    },
    {
      "cell_type": "markdown",
      "source": [
        "# 関数の戻り値を定義する\n",
        "### 戻り値1つの関数を定義"
      ],
      "metadata": {
        "id": "2gImonwDiFhD"
      }
    },
    {
      "cell_type": "code",
      "source": [
        "def helloBack(who,aisatsu):\n",
        "  return who + 'さん、' + aisatsu\n",
        "# 関数終わり\n",
        "\n",
        "# 戻り値を変数xに代入して表示\n",
        "x = helloBack('佐藤','こんばんは')\n",
        "print(x)"
      ],
      "metadata": {
        "colab": {
          "base_uri": "https://localhost:8080/"
        },
        "id": "bdcXmO1EhIEV",
        "outputId": "5fa06984-d725-4132-cd83-ab69b1d6953c"
      },
      "execution_count": 5,
      "outputs": [
        {
          "output_type": "stream",
          "name": "stdout",
          "text": [
            "佐藤さん、こんばんは\n"
          ]
        }
      ]
    },
    {
      "cell_type": "markdown",
      "source": [
        "# 複数の戻り値を返す関数を定義"
      ],
      "metadata": {
        "id": "PDL4UiPIjcJE"
      }
    },
    {
      "cell_type": "code",
      "source": [
        "def keisan(x,y):\n",
        "  # x,y,x+y この3つの値を返す\n",
        "  return x, y, x+y\n",
        "# 関数終わり\n",
        "\n",
        "# 関数keisanを実行して戻り値を受け取る\n",
        "e,f,g = keisan(3,6) # 戻り値が3,6,9になる\n",
        "# x→e=3,y→f=6,x+y→g=9\n",
        "print(e,f,g)"
      ],
      "metadata": {
        "colab": {
          "base_uri": "https://localhost:8080/"
        },
        "id": "mx43XhrMjJ_E",
        "outputId": "d998689d-5d3f-4dcb-a344-ab5a6b2da73d"
      },
      "execution_count": 6,
      "outputs": [
        {
          "output_type": "stream",
          "name": "stdout",
          "text": [
            "3 6 9\n"
          ]
        }
      ]
    },
    {
      "cell_type": "markdown",
      "source": [
        "# その他の文法\n",
        "### 分岐(if文)"
      ],
      "metadata": {
        "id": "lLi_1ZgemcjN"
      }
    },
    {
      "cell_type": "code",
      "source": [
        "# if文の範囲もインデントで表す\n",
        "# numの値を閾値(しきいち)で分岐する\n",
        "def over(num, thres):\n",
        "  if num > thres: # numが閾値より大きいとき\n",
        "   print(str(num) + 'は' + str(thres) + 'より大きい')\n",
        "  else:\n",
        "   print(str(num) + 'は' + str(thres) + '以下です')\n",
        "  #分岐の終わり\n",
        "#関数終わり\n",
        "\n",
        "over(333,100)\n",
        "over(-1,10)"
      ],
      "metadata": {
        "colab": {
          "base_uri": "https://localhost:8080/"
        },
        "id": "7MsSrJn6jjhr",
        "outputId": "edf00de9-434f-4ddc-efbd-20bbb1fcc633"
      },
      "execution_count": 7,
      "outputs": [
        {
          "output_type": "stream",
          "name": "stdout",
          "text": [
            "333は100より大きい\n",
            "-1は10以下です\n"
          ]
        }
      ]
    },
    {
      "cell_type": "code",
      "source": [
        "# リストに第2引数の値が含まれるか判定\n",
        "def include(list,keyword):\n",
        "  uniq = set(list) # リストを集合に変換\n",
        "  if keyword in uniq:\n",
        "    print(keyword + 'が含まれる')\n",
        "  else:\n",
        "    print(keyword + 'が含まれない')\n",
        "  # 分岐の終わり\n",
        "# 関数の終わり\n",
        "\n",
        "# リストを引き渡して作成した関数を実行する\n",
        "list_1 = ['アップル','ペン','ペン','パイナップル']# 第一引数に使うリスト\n",
        "include(list_1,'パイナップル')\n",
        "include(list_1,'バナナ')"
      ],
      "metadata": {
        "colab": {
          "base_uri": "https://localhost:8080/"
        },
        "id": "LoHLedylnfGx",
        "outputId": "f73d4b10-6845-4953-b2cf-cca0e96b87f4"
      },
      "execution_count": 8,
      "outputs": [
        {
          "output_type": "stream",
          "name": "stdout",
          "text": [
            "パイナップルが含まれる\n",
            "バナナが含まれない\n"
          ]
        }
      ]
    },
    {
      "cell_type": "markdown",
      "source": [
        "# 繰り返し文"
      ],
      "metadata": {
        "id": "JKU0PZe6xxc-"
      }
    },
    {
      "cell_type": "code",
      "source": [
        "# while文は条件がtureの間くりかえす\n",
        "def  count(max):\n",
        "  num = 0\n",
        "  while num < max: # numがmax未満の間、くりかえす\n",
        "   print(num)\n",
        "   num += 1\n",
        "  # while繰り返し終わり\n",
        "# 関数終わり\n",
        "\n",
        "count(5) # 作成した関数に引数を引き渡して実行\n"
      ],
      "metadata": {
        "colab": {
          "base_uri": "https://localhost:8080/"
        },
        "id": "OeOtNyN9t3oC",
        "outputId": "b811a565-625f-4d83-f2cb-8dc4b8a85ec9"
      },
      "execution_count": 9,
      "outputs": [
        {
          "output_type": "stream",
          "name": "stdout",
          "text": [
            "0\n",
            "1\n",
            "2\n",
            "3\n",
            "4\n"
          ]
        }
      ]
    },
    {
      "cell_type": "markdown",
      "source": [
        "## 繰り返し文(for文)\n",
        "\n",
        "###変数βの集合から1つずつ取り出して変数αとして使う\n",
        "\n",
        "for 変数α in range(変数β):"
      ],
      "metadata": {
        "id": "PY9UR2D5xxWl"
      }
    },
    {
      "cell_type": "code",
      "source": [
        "# 集合(コレクション)の中から取り出して繰り返し\n",
        "def every(array):\n",
        "  for x in array: #arrayの中から1つずつデータを取り出しにxに代入\n",
        "   print(x)\n",
        "  #for文終わり\n",
        "#関数終わり\n",
        "\n",
        "list = [1,2,3]#→ここの値がlistに代入される！(・∀・)\n",
        "every(list)#→listに代入されたのをarrayに代入。\n",
        "tuple = (4,5,6)\n",
        "every(tuple)\n",
        "# 辞書型もコレクション\n",
        "dict = {'a':7,'b':8,'c':9}\n",
        "every(dict)# キーワードの一覧表示\n",
        "values = dict.values()# 値のリストを取得\n",
        "every(values)# 値の一覧を表示\n",
        "# 文字列も文字配列としてコレクション扱いができる\n",
        "every('dog')# d o g として表示"
      ],
      "metadata": {
        "colab": {
          "base_uri": "https://localhost:8080/"
        },
        "id": "fIz7mtygyavN",
        "outputId": "ce1bd76c-5ac8-4dec-da95-3c10485be047"
      },
      "execution_count": 10,
      "outputs": [
        {
          "output_type": "stream",
          "name": "stdout",
          "text": [
            "1\n",
            "2\n",
            "3\n",
            "4\n",
            "5\n",
            "6\n",
            "a\n",
            "b\n",
            "c\n",
            "7\n",
            "8\n",
            "9\n",
            "d\n",
            "o\n",
            "g\n"
          ]
        }
      ]
    },
    {
      "cell_type": "code",
      "source": [
        "# カウンター変数で繰り返す\n",
        "# for n in range(数値) 0～数値未満繰り返す\n",
        "\n",
        "def count(num):\n",
        "  for i in range(num):#0～num 繰り返す\n",
        "   print(i)\n",
        "  # 繰り返しの終わり\n",
        "#関数の終わり\n",
        "\n",
        "count(3) # 3 = 0,1,2 で繰り返す\n"
      ],
      "metadata": {
        "colab": {
          "base_uri": "https://localhost:8080/"
        },
        "id": "TqaNBvui0PAQ",
        "outputId": "1543c3b8-01ad-4f21-b13a-57c218fb61e0"
      },
      "execution_count": 11,
      "outputs": [
        {
          "output_type": "stream",
          "name": "stdout",
          "text": [
            "0\n",
            "1\n",
            "2\n"
          ]
        }
      ]
    },
    {
      "cell_type": "markdown",
      "source": [
        "## 繰り返しを中断したいときは、break命令"
      ],
      "metadata": {
        "id": "vLaqKRFH4i-C"
      }
    },
    {
      "cell_type": "code",
      "source": [
        "def stop (array):\n",
        "  for i in array:\n",
        "   if i>= 4:\n",
        "    break# ループを中断\n",
        "   print(i)\n",
        "   # 分岐終わり\n",
        "  # ループ終わり\n",
        "# 関数終わり\n",
        "\n",
        "list = [1,2,3,4,5,1,2,3,4,5]\n",
        "stop(list)"
      ],
      "metadata": {
        "colab": {
          "base_uri": "https://localhost:8080/"
        },
        "id": "VakvM1Pj3sbT",
        "outputId": "2164e107-8981-404f-ff02-aad88ec648b0"
      },
      "execution_count": 12,
      "outputs": [
        {
          "output_type": "stream",
          "name": "stdout",
          "text": [
            "1\n",
            "2\n",
            "3\n"
          ]
        }
      ]
    },
    {
      "cell_type": "markdown",
      "source": [
        "## 繰り返しをスキップしたいときは、countinue命令"
      ],
      "metadata": {
        "id": "Ry8heh7d6dB1"
      }
    },
    {
      "cell_type": "code",
      "source": [
        "def skip(array):\n",
        "  for i in array:#←これループのやつ。\n",
        "   if i >= 4 :\n",
        "     continue #以降のループ内処理をスキップする\n",
        "   # 分岐終わり\n",
        "   print(i)\n",
        "  # 繰り返し終わり\n",
        "# 関数終わり\n",
        "list = [1,2,3,4,5,1,2,3,4,5]\n",
        "skip(list)"
      ],
      "metadata": {
        "colab": {
          "base_uri": "https://localhost:8080/"
        },
        "id": "z0IJyZ0u6bGB",
        "outputId": "29b9564f-53a1-46d9-851b-5979dec2ed7f"
      },
      "execution_count": 13,
      "outputs": [
        {
          "output_type": "stream",
          "name": "stdout",
          "text": [
            "1\n",
            "2\n",
            "3\n",
            "1\n",
            "2\n",
            "3\n"
          ]
        }
      ]
    },
    {
      "cell_type": "code",
      "source": [],
      "metadata": {
        "id": "mQyi1dk86895"
      },
      "execution_count": 13,
      "outputs": []
    }
  ]
}