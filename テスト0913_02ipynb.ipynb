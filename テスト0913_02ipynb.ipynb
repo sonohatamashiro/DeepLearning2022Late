{
  "nbformat": 4,
  "nbformat_minor": 0,
  "metadata": {
    "colab": {
      "provenance": [],
      "collapsed_sections": [],
      "authorship_tag": "ABX9TyM0nSvcN/VozZMsGmGTI5i0",
      "include_colab_link": true
    },
    "kernelspec": {
      "name": "python3",
      "display_name": "Python 3"
    },
    "language_info": {
      "name": "python"
    }
  },
  "cells": [
    {
      "cell_type": "markdown",
      "metadata": {
        "id": "view-in-github",
        "colab_type": "text"
      },
      "source": [
        "<a href=\"https://colab.research.google.com/github/sonohatamashiro/DeepLearning2022Late/blob/main/%E3%83%86%E3%82%B9%E3%83%880913_02ipynb.ipynb\" target=\"_parent\"><img src=\"https://colab.research.google.com/assets/colab-badge.svg\" alt=\"Open In Colab\"/></a>"
      ]
    },
    {
      "cell_type": "markdown",
      "source": [
        "# 辞書型(didctinary\n",
        "キーと値のペアで管理する)"
      ],
      "metadata": {
        "id": "Qj6v0rjqaMLB"
      }
    },
    {
      "cell_type": "markdown",
      "source": [
        "###辞書型の定義文"
      ],
      "metadata": {
        "id": "ItBMfFRwapUg"
      }
    },
    {
      "cell_type": "code",
      "source": [
        "# 辞書型のデータを作って変数うdictに代入\n",
        "# {キーワード : 値,'キーワード' : 値}　でデータを管理\n",
        "dict = {'アップル' : 1,'ペン' : 2,'パイナップル' : 3}\n",
        "print(dict)\n",
        "#値を利用するときは、キーワードで指定\n",
        "print(dict['ペン'])\n"
      ],
      "metadata": {
        "colab": {
          "base_uri": "https://localhost:8080/"
        },
        "id": "-UZR47HLas_i",
        "outputId": "006977f3-d69a-44fd-9124-f7fed3b9a803"
      },
      "execution_count": 5,
      "outputs": [
        {
          "output_type": "stream",
          "name": "stdout",
          "text": [
            "{'アップル': 1, 'ペン': 2, 'パイナップル': 3}\n",
            "2\n"
          ]
        }
      ]
    },
    {
      "cell_type": "markdown",
      "source": [
        "## 辞書型のキーワード一覧、値一覧を取得する"
      ],
      "metadata": {
        "id": "9fpecLmscH6q"
      }
    },
    {
      "cell_type": "code",
      "source": [
        "print(dict)\n",
        "# dictに入っているキーの一覧\n",
        "print(dict.keys())\n",
        "#dictに入っている値の一覧\n",
        "print(dict.values())"
      ],
      "metadata": {
        "colab": {
          "base_uri": "https://localhost:8080/"
        },
        "id": "gsqWCfeAcbHR",
        "outputId": "ed0fbe53-8c8e-4754-ff01-887dfd223c4f"
      },
      "execution_count": 6,
      "outputs": [
        {
          "output_type": "stream",
          "name": "stdout",
          "text": [
            "{'アップル': 1, 'ペン': 2, 'パイナップル': 3}\n",
            "dict_keys(['アップル', 'ペン', 'パイナップル'])\n",
            "dict_values([1, 2, 3])\n"
          ]
        }
      ]
    },
    {
      "cell_type": "markdown",
      "source": [
        "###辞書型の追加・削除・更新"
      ],
      "metadata": {
        "id": "3xA6c33Watjj"
      }
    },
    {
      "cell_type": "code",
      "source": [
        "print(dict)\n",
        "# dictにバナナというキーワードで値5を追加\n",
        "# print(dict.keys())\n",
        "dict['バナナ'] = 5\n",
        "print(dict)\n",
        "# キーワードがすでにあったら、そのキーワードの値を更新\n",
        "dict['バナナ'] = 100\n",
        "print(dict)\n",
        "# キーワードで指定したペアを削除\n",
        "dict.pop('バナナ')\n",
        "print(dict)"
      ],
      "metadata": {
        "colab": {
          "base_uri": "https://localhost:8080/"
        },
        "id": "uOGZn5QscAwu",
        "outputId": "8ff1b961-2a76-42b4-e363-d1d26180651f"
      },
      "execution_count": 7,
      "outputs": [
        {
          "output_type": "stream",
          "name": "stdout",
          "text": [
            "{'アップル': 1, 'ペン': 2, 'パイナップル': 3}\n",
            "{'アップル': 1, 'ペン': 2, 'パイナップル': 3, 'バナナ': 5}\n",
            "{'アップル': 1, 'ペン': 2, 'パイナップル': 3, 'バナナ': 100}\n",
            "{'アップル': 1, 'ペン': 2, 'パイナップル': 3}\n"
          ]
        }
      ]
    },
    {
      "cell_type": "markdown",
      "source": [
        "# 文字列の整形\n",
        "## 文字列の連結と繰り返し"
      ],
      "metadata": {
        "id": "i05qCgKRegUS"
      }
    },
    {
      "cell_type": "code",
      "source": [
        "# 文字列の連結方法①\n",
        "apple = 'アップル'\n",
        "pen = 'ペン'\n",
        "print(apple + pen) # プラス記号で連結\n",
        "# 文字列の連結方法② 文字配列を連結する\n",
        "piko = ['ペン','パイナップル','アップル','ペン']\n",
        "# printメソッドで連結して表示 例 : , で連結\n",
        "print(','.join(piko))\n",
        "# 回数を指定してメッセージを表示\n",
        "pon = 'ポン'\n",
        "print(pon *3)\n"
      ],
      "metadata": {
        "colab": {
          "base_uri": "https://localhost:8080/"
        },
        "id": "d9Siy8zbeNjG",
        "outputId": "fb7a661d-c827-4447-a718-09af4b0c5f13"
      },
      "execution_count": 8,
      "outputs": [
        {
          "output_type": "stream",
          "name": "stdout",
          "text": [
            "アップルペン\n",
            "ペン,パイナップル,アップル,ペン\n",
            "ポンポンポン\n"
          ]
        }
      ]
    },
    {
      "cell_type": "markdown",
      "source": [
        "## 【重要】文字列の整形(フォーマット)"
      ],
      "metadata": {
        "id": "L7EvtfsQf5wo"
      }
    },
    {
      "cell_type": "code",
      "source": [
        "# 定式で指定した形のメッセージにする\n",
        "print('{}{}:{}円')\n",
        "# スロットを定義した順番に、その数だけデータを引き渡して文章を組み立てる\n",
        "print('{}{}:{}円'.format('アップル','ペン',100))\n",
        "# スロットを値のインデックスで指定することもできる\n",
        "print('{}{}:{}円'.format(100,'アップル','ペン'))"
      ],
      "metadata": {
        "colab": {
          "base_uri": "https://localhost:8080/"
        },
        "id": "e0EBWoIef_kc",
        "outputId": "28204b14-5a09-4161-a903-cc6895caf2e8"
      },
      "execution_count": 11,
      "outputs": [
        {
          "output_type": "stream",
          "name": "stdout",
          "text": [
            "{}{}:{}円\n",
            "アップルペン:100円\n",
            "100アップル:ペン円\n"
          ]
        }
      ]
    },
    {
      "cell_type": "markdown",
      "source": [
        "# コレクション演算\n",
        "リスト、タプル、つまり順番がある集合のことをシーケンスという。順番がない集合を集合型(セット)という上記2種類をまとめてコレクションという。コレクションは共通の演算が使えるlen(長さ、量を取得)、max(最大値を取得)、min(最小値を取得)など"
      ],
      "metadata": {
        "id": "BGmmz5XfYMqU"
      }
    },
    {
      "cell_type": "code",
      "source": [
        "list = [1,1,2,3,4,5] #6つの要素\n",
        "tuple = (10,9,7,7,8,8,9) #7つの要素\n",
        "set = {1,-2,3,-4,5,-6,7,-8} #8つの要素\n",
        "#リストの長さ、最大値、最小値\n",
        "print(len(list),max(list),min(list))\n",
        "#タプルの長さ、最大値、最小値\n",
        "print(len(tuple),max(tuple),min(tuple))\n",
        "#setの長さ(量)、最大値、最小値\n",
        "print(len(set),max(set),min(set))\n",
        "\n",
        "#tupleは要素の追加ができる！\n",
        "#listは要素の追加ができない。\n",
        "#setは重複する数を省略。"
      ],
      "metadata": {
        "colab": {
          "base_uri": "https://localhost:8080/"
        },
        "id": "u9AUesvVXq30",
        "outputId": "995499b9-1ba0-4ebb-b70c-91ef153bb86a"
      },
      "execution_count": 3,
      "outputs": [
        {
          "output_type": "stream",
          "name": "stdout",
          "text": [
            "6 5 1\n",
            "7 10 7\n",
            "8 7 -8\n"
          ]
        }
      ]
    }
  ]
}