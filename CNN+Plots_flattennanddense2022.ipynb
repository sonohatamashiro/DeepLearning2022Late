{
  "nbformat": 4,
  "nbformat_minor": 0,
  "metadata": {
    "colab": {
      "provenance": [],
      "authorship_tag": "ABX9TyMv6fEUxhdybzCl/g+DKTQy",
      "include_colab_link": true
    },
    "kernelspec": {
      "name": "python3",
      "display_name": "Python 3"
    },
    "language_info": {
      "name": "python"
    }
  },
  "cells": [
    {
      "cell_type": "markdown",
      "metadata": {
        "id": "view-in-github",
        "colab_type": "text"
      },
      "source": [
        "<a href=\"https://colab.research.google.com/github/sonohatamashiro/DeepLearning2022Late/blob/main/CNN%2BPlots_flattennanddense2022.ipynb\" target=\"_parent\"><img src=\"https://colab.research.google.com/assets/colab-badge.svg\" alt=\"Open In Colab\"/></a>"
      ]
    },
    {
      "cell_type": "markdown",
      "source": [
        "# CNN(畳み込み層)を追加した学習モデルに全結合層を分類する出力層を追加する"
      ],
      "metadata": {
        "id": "NynKeT--Teiz"
      }
    },
    {
      "cell_type": "markdown",
      "source": [
        "## 学習モデルのライブラリのimport"
      ],
      "metadata": {
        "id": "E6ycxkwxTeHQ"
      }
    },
    {
      "cell_type": "code",
      "execution_count": 1,
      "metadata": {
        "id": "er8VJF8YQjvD"
      },
      "outputs": [],
      "source": [
        "from keras.models import Sequential,Model # 学習モデルのクラス\n",
        "from keras.layers import Conv2D # 畳み込み層のクラス\n",
        "from keras.layers import Flatten # 全結合層用のクラス\n",
        "from keras.layers import Dense # (分類出力用の)普通のニューロン層\n"
      ]
    },
    {
      "cell_type": "markdown",
      "source": [
        "SVG画像表示用のライブラリをimport"
      ],
      "metadata": {
        "id": "PDBhryoETdpD"
      }
    },
    {
      "cell_type": "code",
      "source": [
        "from IPython.display import SVG\n",
        "from keras.utils.vis_utils import model_to_dot"
      ],
      "metadata": {
        "id": "RTw5r9rWVTwv"
      },
      "execution_count": 2,
      "outputs": []
    },
    {
      "cell_type": "markdown",
      "source": [
        "### モデルを生成する"
      ],
      "metadata": {
        "id": "00qhWT7kTf9P"
      }
    },
    {
      "cell_type": "code",
      "source": [
        "model = Sequential()"
      ],
      "metadata": {
        "id": "v5p6j23U-zwn"
      },
      "execution_count": 3,
      "outputs": []
    },
    {
      "cell_type": "markdown",
      "source": [
        "## モデルに層を追加していく"
      ],
      "metadata": {
        "id": "OslWvq6k-9Q7"
      }
    },
    {
      "cell_type": "code",
      "source": [
        "model.add( Conv2D(\n",
        "    filters=3, # 3パターンのフィルター\n",
        "    kernel_size=( 3,3 ), # 受容野 縦3,横3\n",
        "    input_shape=(6,6,1), # 入力画像1個分の形縦6,横6\n",
        "    padding='same', # ゼロパディング\n",
        "    name='Conv2D'\n",
        "))"
      ],
      "metadata": {
        "id": "sg-ErfIw-2OH"
      },
      "execution_count": 5,
      "outputs": []
    },
    {
      "cell_type": "code",
      "source": [
        "# 全結合層を追加\n",
        "model.add( Flatten( name='Flatten_1' ) )"
      ],
      "metadata": {
        "id": "9kpN8LXXAgxk"
      },
      "execution_count": 6,
      "outputs": []
    },
    {
      "cell_type": "code",
      "source": [
        "# softmax分類を追加\n",
        "model.add( Dense( units=10, # 10個のニューロン\n",
        "                 activation='softmax', # 活性化関数softmaxで分類\n",
        "                 name='Dense_1'\n",
        "                 ) )"
      ],
      "metadata": {
        "id": "FXG7Wi00BLne"
      },
      "execution_count": 8,
      "outputs": []
    },
    {
      "cell_type": "markdown",
      "source": [
        "## 学習モデルの形をSVG画像で確認"
      ],
      "metadata": {
        "id": "iHLOrXC2C2vt"
      }
    },
    {
      "cell_type": "code",
      "source": [
        "SVG( model_to_dot( model, \n",
        "                  show_shapes=True,\n",
        "                  dpi=None ).create( prog='dot', format='svg' ))"
      ],
      "metadata": {
        "colab": {
          "base_uri": "https://localhost:8080/",
          "height": 538
        },
        "id": "s-ekXky6BsBS",
        "outputId": "c96de980-cc44-4b3f-848f-9b6ffb88df88"
      },
      "execution_count": 10,
      "outputs": [
        {
          "output_type": "execute_result",
          "data": {
            "text/plain": [
              "<IPython.core.display.SVG object>"
            ],
            "image/svg+xml": "<svg height=\"387pt\" viewBox=\"0.00 0.00 353.50 387.00\" width=\"354pt\" xmlns=\"http://www.w3.org/2000/svg\" xmlns:xlink=\"http://www.w3.org/1999/xlink\">\n<g class=\"graph\" id=\"graph0\" transform=\"scale(1 1) rotate(0) translate(4 383)\">\n<title>G</title>\n<polygon fill=\"#ffffff\" points=\"-4,4 -4,-383 349.5,-383 349.5,4 -4,4\" stroke=\"transparent\"/>\n<!-- dpi -->\n<g class=\"node\" id=\"node1\">\n<title>dpi</title>\n<ellipse cx=\"27\" cy=\"-355.5\" fill=\"none\" rx=\"27\" ry=\"18\" stroke=\"#000000\"/>\n<text fill=\"#000000\" font-family=\"Times,serif\" font-size=\"14.00\" text-anchor=\"middle\" x=\"27\" y=\"-351.8\">dpi</text>\n</g>\n<!-- 140696522648336 -->\n<g class=\"node\" id=\"node2\">\n<title>140696522648336</title>\n<polygon fill=\"none\" points=\"72.5,-332.5 72.5,-378.5 345.5,-378.5 345.5,-332.5 72.5,-332.5\" stroke=\"#000000\"/>\n<text fill=\"#000000\" font-family=\"Times,serif\" font-size=\"14.00\" text-anchor=\"middle\" x=\"124.5\" y=\"-363.3\">Conv2D_input</text>\n<polyline fill=\"none\" points=\"72.5,-355.5 176.5,-355.5 \" stroke=\"#000000\"/>\n<text fill=\"#000000\" font-family=\"Times,serif\" font-size=\"14.00\" text-anchor=\"middle\" x=\"124.5\" y=\"-340.3\">InputLayer</text>\n<polyline fill=\"none\" points=\"176.5,-332.5 176.5,-378.5 \" stroke=\"#000000\"/>\n<text fill=\"#000000\" font-family=\"Times,serif\" font-size=\"14.00\" text-anchor=\"middle\" x=\"205.5\" y=\"-363.3\">input:</text>\n<polyline fill=\"none\" points=\"176.5,-355.5 234.5,-355.5 \" stroke=\"#000000\"/>\n<text fill=\"#000000\" font-family=\"Times,serif\" font-size=\"14.00\" text-anchor=\"middle\" x=\"205.5\" y=\"-340.3\">output:</text>\n<polyline fill=\"none\" points=\"234.5,-332.5 234.5,-378.5 \" stroke=\"#000000\"/>\n<text fill=\"#000000\" font-family=\"Times,serif\" font-size=\"14.00\" text-anchor=\"middle\" x=\"290\" y=\"-363.3\">[(None, 6, 6, 1)]</text>\n<polyline fill=\"none\" points=\"234.5,-355.5 345.5,-355.5 \" stroke=\"#000000\"/>\n<text fill=\"#000000\" font-family=\"Times,serif\" font-size=\"14.00\" text-anchor=\"middle\" x=\"290\" y=\"-340.3\">[(None, 6, 6, 1)]</text>\n</g>\n<!-- 140696438329680 -->\n<g class=\"node\" id=\"node3\">\n<title>140696438329680</title>\n<polygon fill=\"none\" points=\"95.5,-249.5 95.5,-295.5 322.5,-295.5 322.5,-249.5 95.5,-249.5\" stroke=\"#000000\"/>\n<text fill=\"#000000\" font-family=\"Times,serif\" font-size=\"14.00\" text-anchor=\"middle\" x=\"129\" y=\"-280.3\">Conv2D</text>\n<polyline fill=\"none\" points=\"95.5,-272.5 162.5,-272.5 \" stroke=\"#000000\"/>\n<text fill=\"#000000\" font-family=\"Times,serif\" font-size=\"14.00\" text-anchor=\"middle\" x=\"129\" y=\"-257.3\">Conv2D</text>\n<polyline fill=\"none\" points=\"162.5,-249.5 162.5,-295.5 \" stroke=\"#000000\"/>\n<text fill=\"#000000\" font-family=\"Times,serif\" font-size=\"14.00\" text-anchor=\"middle\" x=\"191.5\" y=\"-280.3\">input:</text>\n<polyline fill=\"none\" points=\"162.5,-272.5 220.5,-272.5 \" stroke=\"#000000\"/>\n<text fill=\"#000000\" font-family=\"Times,serif\" font-size=\"14.00\" text-anchor=\"middle\" x=\"191.5\" y=\"-257.3\">output:</text>\n<polyline fill=\"none\" points=\"220.5,-249.5 220.5,-295.5 \" stroke=\"#000000\"/>\n<text fill=\"#000000\" font-family=\"Times,serif\" font-size=\"14.00\" text-anchor=\"middle\" x=\"271.5\" y=\"-280.3\">(None, 6, 6, 1)</text>\n<polyline fill=\"none\" points=\"220.5,-272.5 322.5,-272.5 \" stroke=\"#000000\"/>\n<text fill=\"#000000\" font-family=\"Times,serif\" font-size=\"14.00\" text-anchor=\"middle\" x=\"271.5\" y=\"-257.3\">(None, 6, 6, 3)</text>\n</g>\n<!-- 140696522648336&#45;&gt;140696438329680 -->\n<g class=\"edge\" id=\"edge1\">\n<title>140696522648336-&gt;140696438329680</title>\n<path d=\"M209,-332.3799C209,-324.1745 209,-314.7679 209,-305.8786\" fill=\"none\" stroke=\"#000000\"/>\n<polygon fill=\"#000000\" points=\"212.5001,-305.784 209,-295.784 205.5001,-305.784 212.5001,-305.784\" stroke=\"#000000\"/>\n</g>\n<!-- 140696438827216 -->\n<g class=\"node\" id=\"node4\">\n<title>140696438827216</title>\n<polygon fill=\"none\" points=\"93.5,-166.5 93.5,-212.5 324.5,-212.5 324.5,-166.5 93.5,-166.5\" stroke=\"#000000\"/>\n<text fill=\"#000000\" font-family=\"Times,serif\" font-size=\"14.00\" text-anchor=\"middle\" x=\"129\" y=\"-197.3\">Flatten_1</text>\n<polyline fill=\"none\" points=\"93.5,-189.5 164.5,-189.5 \" stroke=\"#000000\"/>\n<text fill=\"#000000\" font-family=\"Times,serif\" font-size=\"14.00\" text-anchor=\"middle\" x=\"129\" y=\"-174.3\">Flatten</text>\n<polyline fill=\"none\" points=\"164.5,-166.5 164.5,-212.5 \" stroke=\"#000000\"/>\n<text fill=\"#000000\" font-family=\"Times,serif\" font-size=\"14.00\" text-anchor=\"middle\" x=\"193.5\" y=\"-197.3\">input:</text>\n<polyline fill=\"none\" points=\"164.5,-189.5 222.5,-189.5 \" stroke=\"#000000\"/>\n<text fill=\"#000000\" font-family=\"Times,serif\" font-size=\"14.00\" text-anchor=\"middle\" x=\"193.5\" y=\"-174.3\">output:</text>\n<polyline fill=\"none\" points=\"222.5,-166.5 222.5,-212.5 \" stroke=\"#000000\"/>\n<text fill=\"#000000\" font-family=\"Times,serif\" font-size=\"14.00\" text-anchor=\"middle\" x=\"273.5\" y=\"-197.3\">(None, 6, 6, 3)</text>\n<polyline fill=\"none\" points=\"222.5,-189.5 324.5,-189.5 \" stroke=\"#000000\"/>\n<text fill=\"#000000\" font-family=\"Times,serif\" font-size=\"14.00\" text-anchor=\"middle\" x=\"273.5\" y=\"-174.3\">(None, 108)</text>\n</g>\n<!-- 140696438329680&#45;&gt;140696438827216 -->\n<g class=\"edge\" id=\"edge2\">\n<title>140696438329680-&gt;140696438827216</title>\n<path d=\"M209,-249.3799C209,-241.1745 209,-231.7679 209,-222.8786\" fill=\"none\" stroke=\"#000000\"/>\n<polygon fill=\"#000000\" points=\"212.5001,-222.784 209,-212.784 205.5001,-222.784 212.5001,-222.784\" stroke=\"#000000\"/>\n</g>\n<!-- 140696437142928 -->\n<g class=\"node\" id=\"node5\">\n<title>140696437142928</title>\n<polygon fill=\"none\" points=\"110.5,-83.5 110.5,-129.5 307.5,-129.5 307.5,-83.5 110.5,-83.5\" stroke=\"#000000\"/>\n<text fill=\"#000000\" font-family=\"Times,serif\" font-size=\"14.00\" text-anchor=\"middle\" x=\"136.5\" y=\"-114.3\">dense</text>\n<polyline fill=\"none\" points=\"110.5,-106.5 162.5,-106.5 \" stroke=\"#000000\"/>\n<text fill=\"#000000\" font-family=\"Times,serif\" font-size=\"14.00\" text-anchor=\"middle\" x=\"136.5\" y=\"-91.3\">Dense</text>\n<polyline fill=\"none\" points=\"162.5,-83.5 162.5,-129.5 \" stroke=\"#000000\"/>\n<text fill=\"#000000\" font-family=\"Times,serif\" font-size=\"14.00\" text-anchor=\"middle\" x=\"191.5\" y=\"-114.3\">input:</text>\n<polyline fill=\"none\" points=\"162.5,-106.5 220.5,-106.5 \" stroke=\"#000000\"/>\n<text fill=\"#000000\" font-family=\"Times,serif\" font-size=\"14.00\" text-anchor=\"middle\" x=\"191.5\" y=\"-91.3\">output:</text>\n<polyline fill=\"none\" points=\"220.5,-83.5 220.5,-129.5 \" stroke=\"#000000\"/>\n<text fill=\"#000000\" font-family=\"Times,serif\" font-size=\"14.00\" text-anchor=\"middle\" x=\"264\" y=\"-114.3\">(None, 108)</text>\n<polyline fill=\"none\" points=\"220.5,-106.5 307.5,-106.5 \" stroke=\"#000000\"/>\n<text fill=\"#000000\" font-family=\"Times,serif\" font-size=\"14.00\" text-anchor=\"middle\" x=\"264\" y=\"-91.3\">(None, 10)</text>\n</g>\n<!-- 140696438827216&#45;&gt;140696437142928 -->\n<g class=\"edge\" id=\"edge3\">\n<title>140696438827216-&gt;140696437142928</title>\n<path d=\"M209,-166.3799C209,-158.1745 209,-148.7679 209,-139.8786\" fill=\"none\" stroke=\"#000000\"/>\n<polygon fill=\"#000000\" points=\"212.5001,-139.784 209,-129.784 205.5001,-139.784 212.5001,-139.784\" stroke=\"#000000\"/>\n</g>\n<!-- 140696438171472 -->\n<g class=\"node\" id=\"node6\">\n<title>140696438171472</title>\n<polygon fill=\"none\" points=\"106.5,-.5 106.5,-46.5 311.5,-46.5 311.5,-.5 106.5,-.5\" stroke=\"#000000\"/>\n<text fill=\"#000000\" font-family=\"Times,serif\" font-size=\"14.00\" text-anchor=\"middle\" x=\"140\" y=\"-31.3\">Dense_1</text>\n<polyline fill=\"none\" points=\"106.5,-23.5 173.5,-23.5 \" stroke=\"#000000\"/>\n<text fill=\"#000000\" font-family=\"Times,serif\" font-size=\"14.00\" text-anchor=\"middle\" x=\"140\" y=\"-8.3\">Dense</text>\n<polyline fill=\"none\" points=\"173.5,-.5 173.5,-46.5 \" stroke=\"#000000\"/>\n<text fill=\"#000000\" font-family=\"Times,serif\" font-size=\"14.00\" text-anchor=\"middle\" x=\"202.5\" y=\"-31.3\">input:</text>\n<polyline fill=\"none\" points=\"173.5,-23.5 231.5,-23.5 \" stroke=\"#000000\"/>\n<text fill=\"#000000\" font-family=\"Times,serif\" font-size=\"14.00\" text-anchor=\"middle\" x=\"202.5\" y=\"-8.3\">output:</text>\n<polyline fill=\"none\" points=\"231.5,-.5 231.5,-46.5 \" stroke=\"#000000\"/>\n<text fill=\"#000000\" font-family=\"Times,serif\" font-size=\"14.00\" text-anchor=\"middle\" x=\"271.5\" y=\"-31.3\">(None, 10)</text>\n<polyline fill=\"none\" points=\"231.5,-23.5 311.5,-23.5 \" stroke=\"#000000\"/>\n<text fill=\"#000000\" font-family=\"Times,serif\" font-size=\"14.00\" text-anchor=\"middle\" x=\"271.5\" y=\"-8.3\">(None, 10)</text>\n</g>\n<!-- 140696437142928&#45;&gt;140696438171472 -->\n<g class=\"edge\" id=\"edge4\">\n<title>140696437142928-&gt;140696438171472</title>\n<path d=\"M209,-83.3799C209,-75.1745 209,-65.7679 209,-56.8786\" fill=\"none\" stroke=\"#000000\"/>\n<polygon fill=\"#000000\" points=\"212.5001,-56.784 209,-46.784 205.5001,-56.784 212.5001,-56.784\" stroke=\"#000000\"/>\n</g>\n</g>\n</svg>"
          },
          "metadata": {},
          "execution_count": 10
        }
      ]
    },
    {
      "cell_type": "code",
      "source": [],
      "metadata": {
        "id": "kIQvoLDpDQ4w"
      },
      "execution_count": null,
      "outputs": []
    }
  ]
}