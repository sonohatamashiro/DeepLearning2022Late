{
  "nbformat": 4,
  "nbformat_minor": 0,
  "metadata": {
    "colab": {
      "provenance": [],
      "collapsed_sections": [],
      "authorship_tag": "ABX9TyOz1R4lqL6+xF9ftwOzzIiT",
      "include_colab_link": true
    },
    "kernelspec": {
      "name": "python3",
      "display_name": "Python 3"
    },
    "language_info": {
      "name": "python"
    }
  },
  "cells": [
    {
      "cell_type": "markdown",
      "metadata": {
        "id": "view-in-github",
        "colab_type": "text"
      },
      "source": [
        "<a href=\"https://colab.research.google.com/github/sonohatamashiro/DeepLearning2022Late/blob/main/CNN%2BTrain_example2022.ipynb\" target=\"_parent\"><img src=\"https://colab.research.google.com/assets/colab-badge.svg\" alt=\"Open In Colab\"/></a>"
      ]
    },
    {
      "cell_type": "markdown",
      "source": [
        "# CNN(畳み込みを含むニューラルネットワーク)でモデルに学習させる( = 訓練)"
      ],
      "metadata": {
        "id": "PyLJkZR506DZ"
      }
    },
    {
      "cell_type": "markdown",
      "source": [
        "### 学習モデルのライブラリをimport"
      ],
      "metadata": {
        "id": "xgDRpnBn1lT6"
      }
    },
    {
      "cell_type": "code",
      "execution_count": 1,
      "metadata": {
        "id": "FiKqPGvP0xid"
      },
      "outputs": [],
      "source": [
        "from keras.models import Sequential, Model\n",
        "from keras.layers import Conv2D\n",
        "from keras.layers import Flatten\n",
        "from keras.layers import Dense"
      ]
    },
    {
      "cell_type": "markdown",
      "source": [
        "## keras自身もimport"
      ],
      "metadata": {
        "id": "xIWf_CoC58aR"
      }
    },
    {
      "cell_type": "code",
      "source": [
        "import keras"
      ],
      "metadata": {
        "id": "WbzrgVM16AQe"
      },
      "execution_count": 2,
      "outputs": []
    },
    {
      "cell_type": "markdown",
      "source": [
        "## SVG画像表示用のライブラリをimport"
      ],
      "metadata": {
        "id": "DapADRFM2dxH"
      }
    },
    {
      "cell_type": "code",
      "source": [
        "from IPython.display import SVG\n",
        "from keras.utils.vis_utils import model_to_dot"
      ],
      "metadata": {
        "id": "HcXiOdCP2OB6"
      },
      "execution_count": 3,
      "outputs": []
    },
    {
      "cell_type": "markdown",
      "source": [
        "###その他のライブラリをimport"
      ],
      "metadata": {
        "id": "S6pwK8wl3K7I"
      }
    },
    {
      "cell_type": "code",
      "source": [
        "# 乱数を作るためにNumpyをimport\n",
        "import numpy as np # importして、npという別名を設定\n",
        "# 早期終了(earl Stopping)のためのライブラリをimport\n",
        "import keras.callbacks as callbacks # callbacksという別名を設定"
      ],
      "metadata": {
        "id": "r83vCqTt2s6L"
      },
      "execution_count": 4,
      "outputs": []
    },
    {
      "cell_type": "markdown",
      "source": [
        "## Numpyで乱数を作り、ダミーデータとして学習用、検証用にする"
      ],
      "metadata": {
        "id": "ZvGB9jl74l4H"
      }
    },
    {
      "cell_type": "code",
      "source": [
        "# 学習用データを x_train として作る\n",
        "x_train = np.random.random((100,6,6,1))\n",
        "# 学習用データの正解をy_train として作る\n",
        "y_train = keras.utils.to_categorical(np.random.randint(10,size=(100,1)),\n",
        "                                     num_classes=10)"
      ],
      "metadata": {
        "id": "ENCP5RWx4PYV"
      },
      "execution_count": 5,
      "outputs": []
    },
    {
      "cell_type": "code",
      "source": [
        "# テスト検証用データをx_testとして作る\n",
        "# (6,6,1)の形を今度は20セット分\n",
        "t_test = np.random.random( (20,6,6,1 ) )\n",
        "# テスト検証用データの正解を y_test として作る\n",
        "y_test = keras.utils.to_categorical(np.random.randint(10, size=(20,1)),\n",
        "                                   num_classes=10\n",
        "                                   )"
      ],
      "metadata": {
        "id": "zpWDp8Xj5h9c"
      },
      "execution_count": 6,
      "outputs": []
    },
    {
      "cell_type": "markdown",
      "source": [
        "## 学習モデルを生成する"
      ],
      "metadata": {
        "id": "Lq2dJi6t9Svl"
      }
    },
    {
      "cell_type": "code",
      "source": [
        "model = Sequential()"
      ],
      "metadata": {
        "id": "irP59hOL8a5M"
      },
      "execution_count": 7,
      "outputs": []
    },
    {
      "cell_type": "markdown",
      "source": [
        "### 学習モデルにニューロンの層を追加してニューラルネットワークにする"
      ],
      "metadata": {
        "id": "krMI01FH9hWy"
      }
    },
    {
      "cell_type": "markdown",
      "source": [
        "### 畳み込み層を追加"
      ],
      "metadata": {
        "id": "V4jOQ7ub9xH9"
      }
    },
    {
      "cell_type": "code",
      "source": [
        "model.add( Conv2D( filters=3, # フィルター3パターン\n",
        "                  kernel_size=(3,3), # 受容野のサイズ縦3,横3\n",
        "                  kernel_initializer='lecun_uniform',\n",
        "                  input_shape=(6,6,1), # 入力データの形縦6,横6\n",
        "                  name='Conv2D_1'\n",
        "                  ) )"
      ],
      "metadata": {
        "id": "GdWiWAkT9ebR"
      },
      "execution_count": 9,
      "outputs": []
    },
    {
      "cell_type": "markdown",
      "source": [
        "### そのほかの層も追加する"
      ],
      "metadata": {
        "id": "hz234t-cAyD5"
      }
    },
    {
      "cell_type": "code",
      "source": [
        "# 全結合層\n",
        "model.add( Flatten( name='Flatten_1') )\n",
        "# softmaxで分類するニューロン層\n",
        "model.add( Dense( units=10,activation='softmax',name='Dense_1'))"
      ],
      "metadata": {
        "id": "njtYldfk_JCk"
      },
      "execution_count": 10,
      "outputs": []
    },
    {
      "cell_type": "markdown",
      "source": [
        "## 組み立てた学習モデルの構成を、SVG画像として表示"
      ],
      "metadata": {
        "id": "dQR0qTfBHB7S"
      }
    },
    {
      "cell_type": "code",
      "source": [
        "SVG( model_to_dot( model,\n",
        "                  show_shapes=True, dpi=None\n",
        "                  ).create( prog='dot', format='svg'))"
      ],
      "metadata": {
        "colab": {
          "base_uri": "https://localhost:8080/",
          "height": 427
        },
        "id": "SosjIHONGVGM",
        "outputId": "b6cb4fd2-a7f9-4d65-e6f3-b735c662d964"
      },
      "execution_count": 11,
      "outputs": [
        {
          "output_type": "execute_result",
          "data": {
            "text/plain": [
              "<IPython.core.display.SVG object>"
            ],
            "image/svg+xml": "<svg height=\"304pt\" viewBox=\"0.00 0.00 368.00 304.00\" width=\"368pt\" xmlns=\"http://www.w3.org/2000/svg\" xmlns:xlink=\"http://www.w3.org/1999/xlink\">\n<g class=\"graph\" id=\"graph0\" transform=\"scale(1 1) rotate(0) translate(4 300)\">\n<title>G</title>\n<polygon fill=\"#ffffff\" points=\"-4,4 -4,-300 364,-300 364,4 -4,4\" stroke=\"transparent\"/>\n<!-- dpi -->\n<g class=\"node\" id=\"node1\">\n<title>dpi</title>\n<ellipse cx=\"27\" cy=\"-272.5\" fill=\"none\" rx=\"27\" ry=\"18\" stroke=\"#000000\"/>\n<text fill=\"#000000\" font-family=\"Times,serif\" font-size=\"14.00\" text-anchor=\"middle\" x=\"27\" y=\"-268.8\">dpi</text>\n</g>\n<!-- 139871264292816 -->\n<g class=\"node\" id=\"node2\">\n<title>139871264292816</title>\n<polygon fill=\"none\" points=\"72,-249.5 72,-295.5 360,-295.5 360,-249.5 72,-249.5\" stroke=\"#000000\"/>\n<text fill=\"#000000\" font-family=\"Times,serif\" font-size=\"14.00\" text-anchor=\"middle\" x=\"131.5\" y=\"-280.3\">Conv2D_1_input</text>\n<polyline fill=\"none\" points=\"72,-272.5 191,-272.5 \" stroke=\"#000000\"/>\n<text fill=\"#000000\" font-family=\"Times,serif\" font-size=\"14.00\" text-anchor=\"middle\" x=\"131.5\" y=\"-257.3\">InputLayer</text>\n<polyline fill=\"none\" points=\"191,-249.5 191,-295.5 \" stroke=\"#000000\"/>\n<text fill=\"#000000\" font-family=\"Times,serif\" font-size=\"14.00\" text-anchor=\"middle\" x=\"220\" y=\"-280.3\">input:</text>\n<polyline fill=\"none\" points=\"191,-272.5 249,-272.5 \" stroke=\"#000000\"/>\n<text fill=\"#000000\" font-family=\"Times,serif\" font-size=\"14.00\" text-anchor=\"middle\" x=\"220\" y=\"-257.3\">output:</text>\n<polyline fill=\"none\" points=\"249,-249.5 249,-295.5 \" stroke=\"#000000\"/>\n<text fill=\"#000000\" font-family=\"Times,serif\" font-size=\"14.00\" text-anchor=\"middle\" x=\"304.5\" y=\"-280.3\">[(None, 6, 6, 1)]</text>\n<polyline fill=\"none\" points=\"249,-272.5 360,-272.5 \" stroke=\"#000000\"/>\n<text fill=\"#000000\" font-family=\"Times,serif\" font-size=\"14.00\" text-anchor=\"middle\" x=\"304.5\" y=\"-257.3\">[(None, 6, 6, 1)]</text>\n</g>\n<!-- 139869329149200 -->\n<g class=\"node\" id=\"node3\">\n<title>139869329149200</title>\n<polygon fill=\"none\" points=\"95,-166.5 95,-212.5 337,-212.5 337,-166.5 95,-166.5\" stroke=\"#000000\"/>\n<text fill=\"#000000\" font-family=\"Times,serif\" font-size=\"14.00\" text-anchor=\"middle\" x=\"136\" y=\"-197.3\">Conv2D_1</text>\n<polyline fill=\"none\" points=\"95,-189.5 177,-189.5 \" stroke=\"#000000\"/>\n<text fill=\"#000000\" font-family=\"Times,serif\" font-size=\"14.00\" text-anchor=\"middle\" x=\"136\" y=\"-174.3\">Conv2D</text>\n<polyline fill=\"none\" points=\"177,-166.5 177,-212.5 \" stroke=\"#000000\"/>\n<text fill=\"#000000\" font-family=\"Times,serif\" font-size=\"14.00\" text-anchor=\"middle\" x=\"206\" y=\"-197.3\">input:</text>\n<polyline fill=\"none\" points=\"177,-189.5 235,-189.5 \" stroke=\"#000000\"/>\n<text fill=\"#000000\" font-family=\"Times,serif\" font-size=\"14.00\" text-anchor=\"middle\" x=\"206\" y=\"-174.3\">output:</text>\n<polyline fill=\"none\" points=\"235,-166.5 235,-212.5 \" stroke=\"#000000\"/>\n<text fill=\"#000000\" font-family=\"Times,serif\" font-size=\"14.00\" text-anchor=\"middle\" x=\"286\" y=\"-197.3\">(None, 6, 6, 1)</text>\n<polyline fill=\"none\" points=\"235,-189.5 337,-189.5 \" stroke=\"#000000\"/>\n<text fill=\"#000000\" font-family=\"Times,serif\" font-size=\"14.00\" text-anchor=\"middle\" x=\"286\" y=\"-174.3\">(None, 4, 4, 3)</text>\n</g>\n<!-- 139871264292816&#45;&gt;139869329149200 -->\n<g class=\"edge\" id=\"edge1\">\n<title>139871264292816-&gt;139869329149200</title>\n<path d=\"M216,-249.3799C216,-241.1745 216,-231.7679 216,-222.8786\" fill=\"none\" stroke=\"#000000\"/>\n<polygon fill=\"#000000\" points=\"219.5001,-222.784 216,-212.784 212.5001,-222.784 219.5001,-222.784\" stroke=\"#000000\"/>\n</g>\n<!-- 139869329181456 -->\n<g class=\"node\" id=\"node4\">\n<title>139869329181456</title>\n<polygon fill=\"none\" points=\"100.5,-83.5 100.5,-129.5 331.5,-129.5 331.5,-83.5 100.5,-83.5\" stroke=\"#000000\"/>\n<text fill=\"#000000\" font-family=\"Times,serif\" font-size=\"14.00\" text-anchor=\"middle\" x=\"136\" y=\"-114.3\">Flatten_1</text>\n<polyline fill=\"none\" points=\"100.5,-106.5 171.5,-106.5 \" stroke=\"#000000\"/>\n<text fill=\"#000000\" font-family=\"Times,serif\" font-size=\"14.00\" text-anchor=\"middle\" x=\"136\" y=\"-91.3\">Flatten</text>\n<polyline fill=\"none\" points=\"171.5,-83.5 171.5,-129.5 \" stroke=\"#000000\"/>\n<text fill=\"#000000\" font-family=\"Times,serif\" font-size=\"14.00\" text-anchor=\"middle\" x=\"200.5\" y=\"-114.3\">input:</text>\n<polyline fill=\"none\" points=\"171.5,-106.5 229.5,-106.5 \" stroke=\"#000000\"/>\n<text fill=\"#000000\" font-family=\"Times,serif\" font-size=\"14.00\" text-anchor=\"middle\" x=\"200.5\" y=\"-91.3\">output:</text>\n<polyline fill=\"none\" points=\"229.5,-83.5 229.5,-129.5 \" stroke=\"#000000\"/>\n<text fill=\"#000000\" font-family=\"Times,serif\" font-size=\"14.00\" text-anchor=\"middle\" x=\"280.5\" y=\"-114.3\">(None, 4, 4, 3)</text>\n<polyline fill=\"none\" points=\"229.5,-106.5 331.5,-106.5 \" stroke=\"#000000\"/>\n<text fill=\"#000000\" font-family=\"Times,serif\" font-size=\"14.00\" text-anchor=\"middle\" x=\"280.5\" y=\"-91.3\">(None, 48)</text>\n</g>\n<!-- 139869329149200&#45;&gt;139869329181456 -->\n<g class=\"edge\" id=\"edge2\">\n<title>139869329149200-&gt;139869329181456</title>\n<path d=\"M216,-166.3799C216,-158.1745 216,-148.7679 216,-139.8786\" fill=\"none\" stroke=\"#000000\"/>\n<polygon fill=\"#000000\" points=\"219.5001,-139.784 216,-129.784 212.5001,-139.784 219.5001,-139.784\" stroke=\"#000000\"/>\n</g>\n<!-- 139871264360528 -->\n<g class=\"node\" id=\"node5\">\n<title>139871264360528</title>\n<polygon fill=\"none\" points=\"113.5,-.5 113.5,-46.5 318.5,-46.5 318.5,-.5 113.5,-.5\" stroke=\"#000000\"/>\n<text fill=\"#000000\" font-family=\"Times,serif\" font-size=\"14.00\" text-anchor=\"middle\" x=\"147\" y=\"-31.3\">Dense_1</text>\n<polyline fill=\"none\" points=\"113.5,-23.5 180.5,-23.5 \" stroke=\"#000000\"/>\n<text fill=\"#000000\" font-family=\"Times,serif\" font-size=\"14.00\" text-anchor=\"middle\" x=\"147\" y=\"-8.3\">Dense</text>\n<polyline fill=\"none\" points=\"180.5,-.5 180.5,-46.5 \" stroke=\"#000000\"/>\n<text fill=\"#000000\" font-family=\"Times,serif\" font-size=\"14.00\" text-anchor=\"middle\" x=\"209.5\" y=\"-31.3\">input:</text>\n<polyline fill=\"none\" points=\"180.5,-23.5 238.5,-23.5 \" stroke=\"#000000\"/>\n<text fill=\"#000000\" font-family=\"Times,serif\" font-size=\"14.00\" text-anchor=\"middle\" x=\"209.5\" y=\"-8.3\">output:</text>\n<polyline fill=\"none\" points=\"238.5,-.5 238.5,-46.5 \" stroke=\"#000000\"/>\n<text fill=\"#000000\" font-family=\"Times,serif\" font-size=\"14.00\" text-anchor=\"middle\" x=\"278.5\" y=\"-31.3\">(None, 48)</text>\n<polyline fill=\"none\" points=\"238.5,-23.5 318.5,-23.5 \" stroke=\"#000000\"/>\n<text fill=\"#000000\" font-family=\"Times,serif\" font-size=\"14.00\" text-anchor=\"middle\" x=\"278.5\" y=\"-8.3\">(None, 10)</text>\n</g>\n<!-- 139869329181456&#45;&gt;139871264360528 -->\n<g class=\"edge\" id=\"edge3\">\n<title>139869329181456-&gt;139871264360528</title>\n<path d=\"M216,-83.3799C216,-75.1745 216,-65.7679 216,-56.8786\" fill=\"none\" stroke=\"#000000\"/>\n<polygon fill=\"#000000\" points=\"219.5001,-56.784 216,-46.784 212.5001,-56.784 219.5001,-56.784\" stroke=\"#000000\"/>\n</g>\n</g>\n</svg>"
          },
          "metadata": {},
          "execution_count": 11
        }
      ]
    },
    {
      "cell_type": "markdown",
      "source": [
        "### 組み立てたモデルを学習データで訓練する"
      ],
      "metadata": {
        "id": "N-YGXYURIPs0"
      }
    },
    {
      "cell_type": "markdown",
      "source": [
        "### 早期終了も設定する"
      ],
      "metadata": {
        "id": "VpVg8-S0I96c"
      }
    },
    {
      "cell_type": "code",
      "source": [
        "# 早期終了用の設定のオブジェクトを用意する\n",
        "earlyStopping = callbacks.EarlyStopping( monitor='val_loss',#損失を監視\n",
        "                                        patience=5 ) # epoch5つ分様子を見る"
      ],
      "metadata": {
        "id": "6SGbp1S1HaDN"
      },
      "execution_count": 15,
      "outputs": []
    },
    {
      "cell_type": "markdown",
      "source": [
        "## 学習方法を指定して学習モデルをコンパイルする"
      ],
      "metadata": {
        "id": "dhB2s2mZLYaV"
      }
    },
    {
      "cell_type": "code",
      "source": [
        "model.compile( loss='mean_squared_error',#損失を平均(mean)二乗(squared)誤差(error)\n",
        "               optimizer='sgd' # パラメータの重みをSDGで最適化する\n",
        "               # SGD = 確率的匂配降下法\n",
        "               )"
      ],
      "metadata": {
        "id": "Ad_aoumYKIK2"
      },
      "execution_count": 18,
      "outputs": []
    },
    {
      "cell_type": "markdown",
      "source": [
        "### 学習方法を指定した学習モデルを訓練する"
      ],
      "metadata": {
        "id": "uRdEPdryOQre"
      }
    },
    {
      "cell_type": "code",
      "source": [
        "model.fit( x_train, y_train, # 学習データと答えデータ\n",
        "          batch_size=32, # 32個ずつ「まとめて学習(=バッチ学習)してから重みを調整する\n",
        "          epochs=10, #バッチが終わったら重みを調整しなおす、その回数\n",
        "          callbacks=[ earlyStopping ], # エポックの中で呼ぶcallback処理のリストに早期終了を追加\n",
        "          validation_split=0.2 # 学習データのうち2割を、学習中の自己評価検証に使う\n",
        "          )"
      ],
      "metadata": {
        "colab": {
          "base_uri": "https://localhost:8080/"
        },
        "id": "7-TadE1PNtCs",
        "outputId": "3b7b01a7-4ad5-46c0-c129-2055f443cd8d"
      },
      "execution_count": 19,
      "outputs": [
        {
          "output_type": "stream",
          "name": "stdout",
          "text": [
            "Epoch 1/10\n",
            "3/3 [==============================] - 1s 197ms/step - loss: 0.1052 - val_loss: 0.1005\n",
            "Epoch 2/10\n",
            "3/3 [==============================] - 0s 13ms/step - loss: 0.1052 - val_loss: 0.1004\n",
            "Epoch 3/10\n",
            "3/3 [==============================] - 0s 18ms/step - loss: 0.1051 - val_loss: 0.1004\n",
            "Epoch 4/10\n",
            "3/3 [==============================] - 0s 13ms/step - loss: 0.1051 - val_loss: 0.1003\n",
            "Epoch 5/10\n",
            "3/3 [==============================] - 0s 13ms/step - loss: 0.1050 - val_loss: 0.1002\n",
            "Epoch 6/10\n",
            "3/3 [==============================] - 0s 13ms/step - loss: 0.1049 - val_loss: 0.1002\n",
            "Epoch 7/10\n",
            "3/3 [==============================] - 0s 24ms/step - loss: 0.1049 - val_loss: 0.1001\n",
            "Epoch 8/10\n",
            "3/3 [==============================] - 0s 13ms/step - loss: 0.1048 - val_loss: 0.1000\n",
            "Epoch 9/10\n",
            "3/3 [==============================] - 0s 13ms/step - loss: 0.1048 - val_loss: 0.1000\n",
            "Epoch 10/10\n",
            "3/3 [==============================] - 0s 13ms/step - loss: 0.1047 - val_loss: 0.0999\n"
          ]
        },
        {
          "output_type": "execute_result",
          "data": {
            "text/plain": [
              "<keras.callbacks.History at 0x7f35dd967ed0>"
            ]
          },
          "metadata": {},
          "execution_count": 19
        }
      ]
    },
    {
      "cell_type": "code",
      "source": [],
      "metadata": {
        "id": "J6NWE1jwQAl5"
      },
      "execution_count": null,
      "outputs": []
    }
  ]
}