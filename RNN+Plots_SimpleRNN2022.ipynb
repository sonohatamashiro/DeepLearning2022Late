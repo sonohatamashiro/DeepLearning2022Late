{
  "nbformat": 4,
  "nbformat_minor": 0,
  "metadata": {
    "colab": {
      "provenance": [],
      "authorship_tag": "ABX9TyPkYCa4VDU5sQ1aI0q5jrQU",
      "include_colab_link": true
    },
    "kernelspec": {
      "name": "python3",
      "display_name": "Python 3"
    },
    "language_info": {
      "name": "python"
    }
  },
  "cells": [
    {
      "cell_type": "markdown",
      "metadata": {
        "id": "view-in-github",
        "colab_type": "text"
      },
      "source": [
        "<a href=\"https://colab.research.google.com/github/sonohatamashiro/DeepLearning2022Late/blob/main/RNN%2BPlots_SimpleRNN2022.ipynb\" target=\"_parent\"><img src=\"https://colab.research.google.com/assets/colab-badge.svg\" alt=\"Open In Colab\"/></a>"
      ]
    },
    {
      "cell_type": "markdown",
      "source": [
        "# RNNの実装"
      ],
      "metadata": {
        "id": "lEY42q88eV90"
      }
    },
    {
      "cell_type": "code",
      "execution_count": 6,
      "metadata": {
        "id": "By4jCYARd5pQ"
      },
      "outputs": [],
      "source": [
        "from keras.models import Model\n",
        "from keras.layers import Input, SimpleRNN"
      ]
    },
    {
      "cell_type": "code",
      "source": [
        "# その他のライブラリのimport\n",
        "from IPython.display import SVG\n",
        "from keras.utils.vis_utils import model_to_dot"
      ],
      "metadata": {
        "id": "jbRKd8EXej6a"
      },
      "execution_count": 7,
      "outputs": []
    },
    {
      "cell_type": "markdown",
      "source": [
        "### モデルを組み立てるための定義"
      ],
      "metadata": {
        "id": "9EZiEuHaXSlf"
      }
    },
    {
      "cell_type": "code",
      "source": [
        "units = 10\n",
        "time_steps = 5 # シーケンス\n",
        "input_dim = 15 # 入力ベクトル\n",
        "input_shape = (time_steps, input_dim)\n"
      ],
      "metadata": {
        "id": "oxtc7Nneezej"
      },
      "execution_count": 8,
      "outputs": []
    },
    {
      "cell_type": "markdown",
      "source": [
        "## RNNの学習モデルを作成する"
      ],
      "metadata": {
        "id": "0Q6amkupYLEh"
      }
    },
    {
      "cell_type": "code",
      "source": [
        "x = Input( shape=input_shape, name='Input' ) # 入力層\n",
        "y = SimpleRNN( units=units, activation='sigmoid', name='SinpleRNN_1' )(x)\n",
        "model = Model( inputs=[x] , outputs=[y] )\n",
        "\n",
        "# SVG形式でモデルを表示する\n",
        "SVG( model_to_dot( model, show_shapes=True, dpi=None )\n",
        ".create( prog='dot', format='svg' ) )\n"
      ],
      "metadata": {
        "colab": {
          "base_uri": "https://localhost:8080/",
          "height": 206
        },
        "id": "-kNbKA9-YFkn",
        "outputId": "6ae1e6df-5108-49ad-fd68-8d2763ae1b84"
      },
      "execution_count": 10,
      "outputs": [
        {
          "output_type": "execute_result",
          "data": {
            "text/plain": [
              "<IPython.core.display.SVG object>"
            ],
            "image/svg+xml": "<svg xmlns=\"http://www.w3.org/2000/svg\" xmlns:xlink=\"http://www.w3.org/1999/xlink\" width=\"327pt\" height=\"138pt\" viewBox=\"0.00 0.00 327.00 138.00\">\n<g id=\"graph0\" class=\"graph\" transform=\"scale(1 1) rotate(0) translate(4 134)\">\n<title>G</title>\n<polygon fill=\"#ffffff\" stroke=\"transparent\" points=\"-4,4 -4,-134 323,-134 323,4 -4,4\"/>\n<!-- dpi -->\n<g id=\"node1\" class=\"node\">\n<title>dpi</title>\n<ellipse fill=\"none\" stroke=\"#000000\" cx=\"27\" cy=\"-106.5\" rx=\"27\" ry=\"18\"/>\n<text text-anchor=\"middle\" x=\"27\" y=\"-102.8\" font-family=\"Times,serif\" font-size=\"14.00\" fill=\"#000000\">dpi</text>\n</g>\n<!-- 139981227450272 -->\n<g id=\"node2\" class=\"node\">\n<title>139981227450272</title>\n<polygon fill=\"none\" stroke=\"#000000\" points=\"72,-83.5 72,-129.5 314,-129.5 314,-83.5 72,-83.5\"/>\n<text text-anchor=\"middle\" x=\"112\" y=\"-114.3\" font-family=\"Times,serif\" font-size=\"14.00\" fill=\"#000000\">Input</text>\n<polyline fill=\"none\" stroke=\"#000000\" points=\"72,-106.5 152,-106.5 \"/>\n<text text-anchor=\"middle\" x=\"112\" y=\"-91.3\" font-family=\"Times,serif\" font-size=\"14.00\" fill=\"#000000\">InputLayer</text>\n<polyline fill=\"none\" stroke=\"#000000\" points=\"152,-83.5 152,-129.5 \"/>\n<text text-anchor=\"middle\" x=\"181\" y=\"-114.3\" font-family=\"Times,serif\" font-size=\"14.00\" fill=\"#000000\">input:</text>\n<polyline fill=\"none\" stroke=\"#000000\" points=\"152,-106.5 210,-106.5 \"/>\n<text text-anchor=\"middle\" x=\"181\" y=\"-91.3\" font-family=\"Times,serif\" font-size=\"14.00\" fill=\"#000000\">output:</text>\n<polyline fill=\"none\" stroke=\"#000000\" points=\"210,-83.5 210,-129.5 \"/>\n<text text-anchor=\"middle\" x=\"262\" y=\"-114.3\" font-family=\"Times,serif\" font-size=\"14.00\" fill=\"#000000\">[(None, 5, 15)]</text>\n<polyline fill=\"none\" stroke=\"#000000\" points=\"210,-106.5 314,-106.5 \"/>\n<text text-anchor=\"middle\" x=\"262\" y=\"-91.3\" font-family=\"Times,serif\" font-size=\"14.00\" fill=\"#000000\">[(None, 5, 15)]</text>\n</g>\n<!-- 139981227450224 -->\n<g id=\"node3\" class=\"node\">\n<title>139981227450224</title>\n<polygon fill=\"none\" stroke=\"#000000\" points=\"67,-.5 67,-46.5 319,-46.5 319,-.5 67,-.5\"/>\n<text text-anchor=\"middle\" x=\"116.5\" y=\"-31.3\" font-family=\"Times,serif\" font-size=\"14.00\" fill=\"#000000\">SinpleRNN_1</text>\n<polyline fill=\"none\" stroke=\"#000000\" points=\"67,-23.5 166,-23.5 \"/>\n<text text-anchor=\"middle\" x=\"116.5\" y=\"-8.3\" font-family=\"Times,serif\" font-size=\"14.00\" fill=\"#000000\">SimpleRNN</text>\n<polyline fill=\"none\" stroke=\"#000000\" points=\"166,-.5 166,-46.5 \"/>\n<text text-anchor=\"middle\" x=\"195\" y=\"-31.3\" font-family=\"Times,serif\" font-size=\"14.00\" fill=\"#000000\">input:</text>\n<polyline fill=\"none\" stroke=\"#000000\" points=\"166,-23.5 224,-23.5 \"/>\n<text text-anchor=\"middle\" x=\"195\" y=\"-8.3\" font-family=\"Times,serif\" font-size=\"14.00\" fill=\"#000000\">output:</text>\n<polyline fill=\"none\" stroke=\"#000000\" points=\"224,-.5 224,-46.5 \"/>\n<text text-anchor=\"middle\" x=\"271.5\" y=\"-31.3\" font-family=\"Times,serif\" font-size=\"14.00\" fill=\"#000000\">(None, 5, 15)</text>\n<polyline fill=\"none\" stroke=\"#000000\" points=\"224,-23.5 319,-23.5 \"/>\n<text text-anchor=\"middle\" x=\"271.5\" y=\"-8.3\" font-family=\"Times,serif\" font-size=\"14.00\" fill=\"#000000\">(None, 10)</text>\n</g>\n<!-- 139981227450272&#45;&gt;139981227450224 -->\n<g id=\"edge1\" class=\"edge\">\n<title>139981227450272-&gt;139981227450224</title>\n<path fill=\"none\" stroke=\"#000000\" d=\"M193,-83.3799C193,-75.1745 193,-65.7679 193,-56.8786\"/>\n<polygon fill=\"#000000\" stroke=\"#000000\" points=\"196.5001,-56.784 193,-46.784 189.5001,-56.784 196.5001,-56.784\"/>\n</g>\n</g>\n</svg>"
          },
          "metadata": {},
          "execution_count": 10
        }
      ]
    },
    {
      "cell_type": "markdown",
      "source": [
        "### シーケンシャルな出力(入力順に対応する出力する)RNN学習モデル"
      ],
      "metadata": {
        "id": "-V3EHuZPbbKp"
      }
    },
    {
      "cell_type": "code",
      "source": [
        "# xの入力層は同じ(上で宣言したものを使う)\n",
        "# x = Input( shape=input_shape, name='Input' ) # 入力層\n",
        "y = SimpleRNN( units=units, activation='sigmoid',name='SimpleRNN_2',\n",
        "              return_sequences=True)(x)\n",
        "model = Model( inputs=[x], outputs=[y] )\n",
        "# SVGでモデルを表示\n",
        "SVG( model_to_dot( model, show_shapes=True, dpi=None )\n",
        ".create(prog='dot', format='svg') )"
      ],
      "metadata": {
        "colab": {
          "base_uri": "https://localhost:8080/",
          "height": 206
        },
        "id": "01aj2jUKaUzO",
        "outputId": "0d034f8b-555d-47ce-b3bf-3be6805b1e44"
      },
      "execution_count": 12,
      "outputs": [
        {
          "output_type": "execute_result",
          "data": {
            "text/plain": [
              "<IPython.core.display.SVG object>"
            ],
            "image/svg+xml": "<svg xmlns=\"http://www.w3.org/2000/svg\" xmlns:xlink=\"http://www.w3.org/1999/xlink\" width=\"329pt\" height=\"138pt\" viewBox=\"0.00 0.00 329.00 138.00\">\n<g id=\"graph0\" class=\"graph\" transform=\"scale(1 1) rotate(0) translate(4 134)\">\n<title>G</title>\n<polygon fill=\"#ffffff\" stroke=\"transparent\" points=\"-4,4 -4,-134 325,-134 325,4 -4,4\"/>\n<!-- dpi -->\n<g id=\"node1\" class=\"node\">\n<title>dpi</title>\n<ellipse fill=\"none\" stroke=\"#000000\" cx=\"27\" cy=\"-106.5\" rx=\"27\" ry=\"18\"/>\n<text text-anchor=\"middle\" x=\"27\" y=\"-102.8\" font-family=\"Times,serif\" font-size=\"14.00\" fill=\"#000000\">dpi</text>\n</g>\n<!-- 139981227450272 -->\n<g id=\"node2\" class=\"node\">\n<title>139981227450272</title>\n<polygon fill=\"none\" stroke=\"#000000\" points=\"72,-83.5 72,-129.5 314,-129.5 314,-83.5 72,-83.5\"/>\n<text text-anchor=\"middle\" x=\"112\" y=\"-114.3\" font-family=\"Times,serif\" font-size=\"14.00\" fill=\"#000000\">Input</text>\n<polyline fill=\"none\" stroke=\"#000000\" points=\"72,-106.5 152,-106.5 \"/>\n<text text-anchor=\"middle\" x=\"112\" y=\"-91.3\" font-family=\"Times,serif\" font-size=\"14.00\" fill=\"#000000\">InputLayer</text>\n<polyline fill=\"none\" stroke=\"#000000\" points=\"152,-83.5 152,-129.5 \"/>\n<text text-anchor=\"middle\" x=\"181\" y=\"-114.3\" font-family=\"Times,serif\" font-size=\"14.00\" fill=\"#000000\">input:</text>\n<polyline fill=\"none\" stroke=\"#000000\" points=\"152,-106.5 210,-106.5 \"/>\n<text text-anchor=\"middle\" x=\"181\" y=\"-91.3\" font-family=\"Times,serif\" font-size=\"14.00\" fill=\"#000000\">output:</text>\n<polyline fill=\"none\" stroke=\"#000000\" points=\"210,-83.5 210,-129.5 \"/>\n<text text-anchor=\"middle\" x=\"262\" y=\"-114.3\" font-family=\"Times,serif\" font-size=\"14.00\" fill=\"#000000\">[(None, 5, 15)]</text>\n<polyline fill=\"none\" stroke=\"#000000\" points=\"210,-106.5 314,-106.5 \"/>\n<text text-anchor=\"middle\" x=\"262\" y=\"-91.3\" font-family=\"Times,serif\" font-size=\"14.00\" fill=\"#000000\">[(None, 5, 15)]</text>\n</g>\n<!-- 139981227223696 -->\n<g id=\"node3\" class=\"node\">\n<title>139981227223696</title>\n<polygon fill=\"none\" stroke=\"#000000\" points=\"65,-.5 65,-46.5 321,-46.5 321,-.5 65,-.5\"/>\n<text text-anchor=\"middle\" x=\"116.5\" y=\"-31.3\" font-family=\"Times,serif\" font-size=\"14.00\" fill=\"#000000\">SimpleRNN_2</text>\n<polyline fill=\"none\" stroke=\"#000000\" points=\"65,-23.5 168,-23.5 \"/>\n<text text-anchor=\"middle\" x=\"116.5\" y=\"-8.3\" font-family=\"Times,serif\" font-size=\"14.00\" fill=\"#000000\">SimpleRNN</text>\n<polyline fill=\"none\" stroke=\"#000000\" points=\"168,-.5 168,-46.5 \"/>\n<text text-anchor=\"middle\" x=\"197\" y=\"-31.3\" font-family=\"Times,serif\" font-size=\"14.00\" fill=\"#000000\">input:</text>\n<polyline fill=\"none\" stroke=\"#000000\" points=\"168,-23.5 226,-23.5 \"/>\n<text text-anchor=\"middle\" x=\"197\" y=\"-8.3\" font-family=\"Times,serif\" font-size=\"14.00\" fill=\"#000000\">output:</text>\n<polyline fill=\"none\" stroke=\"#000000\" points=\"226,-.5 226,-46.5 \"/>\n<text text-anchor=\"middle\" x=\"273.5\" y=\"-31.3\" font-family=\"Times,serif\" font-size=\"14.00\" fill=\"#000000\">(None, 5, 15)</text>\n<polyline fill=\"none\" stroke=\"#000000\" points=\"226,-23.5 321,-23.5 \"/>\n<text text-anchor=\"middle\" x=\"273.5\" y=\"-8.3\" font-family=\"Times,serif\" font-size=\"14.00\" fill=\"#000000\">(None, 5, 10)</text>\n</g>\n<!-- 139981227450272&#45;&gt;139981227223696 -->\n<g id=\"edge1\" class=\"edge\">\n<title>139981227450272-&gt;139981227223696</title>\n<path fill=\"none\" stroke=\"#000000\" d=\"M193,-83.3799C193,-75.1745 193,-65.7679 193,-56.8786\"/>\n<polygon fill=\"#000000\" stroke=\"#000000\" points=\"196.5001,-56.784 193,-46.784 189.5001,-56.784 196.5001,-56.784\"/>\n</g>\n</g>\n</svg>"
          },
          "metadata": {},
          "execution_count": 12
        }
      ]
    },
    {
      "cell_type": "markdown",
      "source": [
        "## 再帰処理の中身(各ステップ)を表示させる"
      ],
      "metadata": {
        "id": "564MAXtLey3K"
      }
    },
    {
      "cell_type": "code",
      "source": [
        "# RNNのモデルの内部状態を出力\n",
        "# xの入力層は同じ(上で宣言したものを使う)\n",
        "# x = Input( shape=input_shape, name='Input' ) # 入力層\n",
        "y, state = SimpleRNN( units=units, activation='sigmoid',\n",
        "                                return_state=True, name='SimpleRNN_3')(x)\n",
        "model = Model(inputs=[x], outputs=[y])\n",
        "# SVG形式でモデルを表示\n",
        "SVG( model_to_dot( model, show_shapes=True, dpi=None )\n",
        ".create(prog='dot', format='svg' ))"
      ],
      "metadata": {
        "colab": {
          "base_uri": "https://localhost:8080/",
          "height": 206
        },
        "id": "I-oGotPjbosi",
        "outputId": "a9fb85d0-d164-4232-86ff-2f8563e00982"
      },
      "execution_count": 13,
      "outputs": [
        {
          "output_type": "execute_result",
          "data": {
            "text/plain": [
              "<IPython.core.display.SVG object>"
            ],
            "image/svg+xml": "<svg xmlns=\"http://www.w3.org/2000/svg\" xmlns:xlink=\"http://www.w3.org/1999/xlink\" width=\"361pt\" height=\"138pt\" viewBox=\"0.00 0.00 361.00 138.00\">\n<g id=\"graph0\" class=\"graph\" transform=\"scale(1 1) rotate(0) translate(4 134)\">\n<title>G</title>\n<polygon fill=\"#ffffff\" stroke=\"transparent\" points=\"-4,4 -4,-134 357,-134 357,4 -4,4\"/>\n<!-- dpi -->\n<g id=\"node1\" class=\"node\">\n<title>dpi</title>\n<ellipse fill=\"none\" stroke=\"#000000\" cx=\"27\" cy=\"-106.5\" rx=\"27\" ry=\"18\"/>\n<text text-anchor=\"middle\" x=\"27\" y=\"-102.8\" font-family=\"Times,serif\" font-size=\"14.00\" fill=\"#000000\">dpi</text>\n</g>\n<!-- 139981227450272 -->\n<g id=\"node2\" class=\"node\">\n<title>139981227450272</title>\n<polygon fill=\"none\" stroke=\"#000000\" points=\"72,-83.5 72,-129.5 314,-129.5 314,-83.5 72,-83.5\"/>\n<text text-anchor=\"middle\" x=\"112\" y=\"-114.3\" font-family=\"Times,serif\" font-size=\"14.00\" fill=\"#000000\">Input</text>\n<polyline fill=\"none\" stroke=\"#000000\" points=\"72,-106.5 152,-106.5 \"/>\n<text text-anchor=\"middle\" x=\"112\" y=\"-91.3\" font-family=\"Times,serif\" font-size=\"14.00\" fill=\"#000000\">InputLayer</text>\n<polyline fill=\"none\" stroke=\"#000000\" points=\"152,-83.5 152,-129.5 \"/>\n<text text-anchor=\"middle\" x=\"181\" y=\"-114.3\" font-family=\"Times,serif\" font-size=\"14.00\" fill=\"#000000\">input:</text>\n<polyline fill=\"none\" stroke=\"#000000\" points=\"152,-106.5 210,-106.5 \"/>\n<text text-anchor=\"middle\" x=\"181\" y=\"-91.3\" font-family=\"Times,serif\" font-size=\"14.00\" fill=\"#000000\">output:</text>\n<polyline fill=\"none\" stroke=\"#000000\" points=\"210,-83.5 210,-129.5 \"/>\n<text text-anchor=\"middle\" x=\"262\" y=\"-114.3\" font-family=\"Times,serif\" font-size=\"14.00\" fill=\"#000000\">[(None, 5, 15)]</text>\n<polyline fill=\"none\" stroke=\"#000000\" points=\"210,-106.5 314,-106.5 \"/>\n<text text-anchor=\"middle\" x=\"262\" y=\"-91.3\" font-family=\"Times,serif\" font-size=\"14.00\" fill=\"#000000\">[(None, 5, 15)]</text>\n</g>\n<!-- 139981226901024 -->\n<g id=\"node3\" class=\"node\">\n<title>139981226901024</title>\n<polygon fill=\"none\" stroke=\"#000000\" points=\"33,-.5 33,-46.5 353,-46.5 353,-.5 33,-.5\"/>\n<text text-anchor=\"middle\" x=\"84.5\" y=\"-31.3\" font-family=\"Times,serif\" font-size=\"14.00\" fill=\"#000000\">SimpleRNN_3</text>\n<polyline fill=\"none\" stroke=\"#000000\" points=\"33,-23.5 136,-23.5 \"/>\n<text text-anchor=\"middle\" x=\"84.5\" y=\"-8.3\" font-family=\"Times,serif\" font-size=\"14.00\" fill=\"#000000\">SimpleRNN</text>\n<polyline fill=\"none\" stroke=\"#000000\" points=\"136,-.5 136,-46.5 \"/>\n<text text-anchor=\"middle\" x=\"165\" y=\"-31.3\" font-family=\"Times,serif\" font-size=\"14.00\" fill=\"#000000\">input:</text>\n<polyline fill=\"none\" stroke=\"#000000\" points=\"136,-23.5 194,-23.5 \"/>\n<text text-anchor=\"middle\" x=\"165\" y=\"-8.3\" font-family=\"Times,serif\" font-size=\"14.00\" fill=\"#000000\">output:</text>\n<polyline fill=\"none\" stroke=\"#000000\" points=\"194,-.5 194,-46.5 \"/>\n<text text-anchor=\"middle\" x=\"273.5\" y=\"-31.3\" font-family=\"Times,serif\" font-size=\"14.00\" fill=\"#000000\">(None, 5, 15)</text>\n<polyline fill=\"none\" stroke=\"#000000\" points=\"194,-23.5 353,-23.5 \"/>\n<text text-anchor=\"middle\" x=\"273.5\" y=\"-8.3\" font-family=\"Times,serif\" font-size=\"14.00\" fill=\"#000000\">[(None, 10), (None, 10)]</text>\n</g>\n<!-- 139981227450272&#45;&gt;139981226901024 -->\n<g id=\"edge1\" class=\"edge\">\n<title>139981227450272-&gt;139981226901024</title>\n<path fill=\"none\" stroke=\"#000000\" d=\"M193,-83.3799C193,-75.1745 193,-65.7679 193,-56.8786\"/>\n<polygon fill=\"#000000\" stroke=\"#000000\" points=\"196.5001,-56.784 193,-46.784 189.5001,-56.784 196.5001,-56.784\"/>\n</g>\n</g>\n</svg>"
          },
          "metadata": {},
          "execution_count": 13
        }
      ]
    },
    {
      "cell_type": "code",
      "source": [],
      "metadata": {
        "id": "3RbHow7sfDKz"
      },
      "execution_count": null,
      "outputs": []
    }
  ]
}