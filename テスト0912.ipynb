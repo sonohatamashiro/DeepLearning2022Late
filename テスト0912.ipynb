{
  "nbformat": 4,
  "nbformat_minor": 0,
  "metadata": {
    "colab": {
      "provenance": [],
      "collapsed_sections": [],
      "authorship_tag": "ABX9TyNJ+N2PrcINFnHM6fbThxAW",
      "include_colab_link": true
    },
    "kernelspec": {
      "name": "python3",
      "display_name": "Python 3"
    },
    "language_info": {
      "name": "python"
    }
  },
  "cells": [
    {
      "cell_type": "markdown",
      "metadata": {
        "id": "view-in-github",
        "colab_type": "text"
      },
      "source": [
        "<a href=\"https://colab.research.google.com/github/sonohatamashiro/DeepLearning2022Late/blob/main/%E3%83%86%E3%82%B9%E3%83%880912.ipynb\" target=\"_parent\"><img src=\"https://colab.research.google.com/assets/colab-badge.svg\" alt=\"Open In Colab\"/></a>"
      ]
    },
    {
      "cell_type": "code",
      "execution_count": null,
      "metadata": {
        "colab": {
          "base_uri": "https://localhost:8080/"
        },
        "id": "szf1fMrToYxL",
        "outputId": "36f7d61d-ac6c-4782-8a5d-d345c142d364"
      },
      "outputs": [
        {
          "output_type": "stream",
          "name": "stdout",
          "text": [
            "Hello World\n"
          ]
        }
      ],
      "source": [
        "#@title\n",
        "print(\"Hello World\")"
      ]
    },
    {
      "cell_type": "code",
      "source": [
        "x=1.23456\n",
        "print(x)\n",
        "print(type(x))"
      ],
      "metadata": {
        "colab": {
          "base_uri": "https://localhost:8080/"
        },
        "id": "m9sJ8nn9pZ16",
        "outputId": "2dc4839a-723c-4b78-9fc4-e8808b05d6c4"
      },
      "execution_count": null,
      "outputs": [
        {
          "output_type": "stream",
          "name": "stdout",
          "text": [
            "1.23456\n",
            "<class 'float'>\n"
          ]
        }
      ]
    },
    {
      "cell_type": "code",
      "source": [
        "#整数型、文字列型も表示する\n",
        "seisuu=100\n",
        "print(type(seisuu))\n",
        "hello=\"Hello Python\"\n",
        "print(type(hello))"
      ],
      "metadata": {
        "colab": {
          "base_uri": "https://localhost:8080/"
        },
        "id": "ItDMdmrzptjy",
        "outputId": "8a6fe185-7bff-4d11-f79e-a681f6a3a0f7"
      },
      "execution_count": null,
      "outputs": [
        {
          "output_type": "stream",
          "name": "stdout",
          "text": [
            "<class 'int'>\n",
            "<class 'str'>\n"
          ]
        }
      ]
    },
    {
      "cell_type": "code",
      "source": [
        "# 型を変換する\n",
        "print(type(seisuu))#整数型\n",
        "#文字列型に変換\n",
        "strSeisuu=str(seisuu)\n",
        "print(type(strSeisuu))"
      ],
      "metadata": {
        "colab": {
          "base_uri": "https://localhost:8080/"
        },
        "id": "1HbR67uzqdZR",
        "outputId": "cc5604b5-b5a5-490e-deb2-ce677fadc036"
      },
      "execution_count": null,
      "outputs": [
        {
          "output_type": "stream",
          "name": "stdout",
          "text": [
            "<class 'int'>\n",
            "<class 'str'>\n"
          ]
        }
      ]
    },
    {
      "cell_type": "code",
      "source": [
        "### 定数\n",
        "#Python3ではmNone,True/Falseは置き換え不可のキーワード\n",
        "print(type(None))\n",
        "#true/falseはboolean\n",
        "print(type(True))"
      ],
      "metadata": {
        "colab": {
          "base_uri": "https://localhost:8080/"
        },
        "id": "qs7xw-fRrdge",
        "outputId": "11923f8c-7e21-4ad7-d2d5-214b8e481c24"
      },
      "execution_count": null,
      "outputs": [
        {
          "output_type": "stream",
          "name": "stdout",
          "text": [
            "<class 'NoneType'>\n",
            "<class 'bool'>\n"
          ]
        }
      ]
    },
    {
      "cell_type": "code",
      "source": [
        "# 足し算引き算掛け算はJavaといっしょ\n",
        "# 割り算に注意\n",
        "print(6/4) #Javaと違って整数同士の割り算も小数になる\n",
        "print(6//4) #Javaのように整数同士の割り算の整数部を返す\n",
        "# あまり残もJavaと一緒"
      ],
      "metadata": {
        "colab": {
          "base_uri": "https://localhost:8080/"
        },
        "id": "wCoOhR4RszGk",
        "outputId": "42a522b9-fce1-4c97-ed45-6790de434ed6"
      },
      "execution_count": null,
      "outputs": [
        {
          "output_type": "stream",
          "name": "stdout",
          "text": [
            "1.5\n",
            "1\n"
          ]
        }
      ]
    },
    {
      "cell_type": "code",
      "source": [
        "# 絶対値を出す整数\n",
        "print(abs(-3.14))\n",
        "# n乗計算\n",
        "print(pow(3,4))#3の4乗\n",
        "print(3**4)#3の4乗"
      ],
      "metadata": {
        "colab": {
          "base_uri": "https://localhost:8080/"
        },
        "id": "0XxNPz5WtSuL",
        "outputId": "ff31aa4c-f8ee-4384-a712-2b4815cde2a2"
      },
      "execution_count": null,
      "outputs": [
        {
          "output_type": "stream",
          "name": "stdout",
          "text": [
            "3.14\n",
            "81\n",
            "81\n"
          ]
        }
      ]
    },
    {
      "cell_type": "code",
      "source": [],
      "metadata": {
        "id": "yDWk_sk4ttO6"
      },
      "execution_count": null,
      "outputs": []
    }
  ]
}