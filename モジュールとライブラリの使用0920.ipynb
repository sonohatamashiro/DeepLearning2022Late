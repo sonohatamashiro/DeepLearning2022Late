{
  "nbformat": 4,
  "nbformat_minor": 0,
  "metadata": {
    "colab": {
      "provenance": [],
      "collapsed_sections": [],
      "authorship_tag": "ABX9TyNJxpTxejUWZkCODWeCGaWW",
      "include_colab_link": true
    },
    "kernelspec": {
      "name": "python3",
      "display_name": "Python 3"
    },
    "language_info": {
      "name": "python"
    }
  },
  "cells": [
    {
      "cell_type": "markdown",
      "metadata": {
        "id": "view-in-github",
        "colab_type": "text"
      },
      "source": [
        "<a href=\"https://colab.research.google.com/github/sonohatamashiro/DeepLearning2022Late/blob/main/%E3%83%A2%E3%82%B8%E3%83%A5%E3%83%BC%E3%83%AB%E3%81%A8%E3%83%A9%E3%82%A4%E3%83%96%E3%83%A9%E3%83%AA%E3%81%AE%E4%BD%BF%E7%94%A80920.ipynb\" target=\"_parent\"><img src=\"https://colab.research.google.com/assets/colab-badge.svg\" alt=\"Open In Colab\"/></a>"
      ]
    },
    {
      "cell_type": "markdown",
      "source": [
        "# モジュールを使う\n",
        "## import文でモジュールを読み込んで使う\n",
        "例) math"
      ],
      "metadata": {
        "id": "iE7m7vck891z"
      }
    },
    {
      "cell_type": "code",
      "execution_count": 1,
      "metadata": {
        "colab": {
          "base_uri": "https://localhost:8080/"
        },
        "id": "KLkJIz3G81Ci",
        "outputId": "79a553d8-343a-4ec9-f373-b2e1bf8669bb"
      },
      "outputs": [
        {
          "output_type": "stream",
          "name": "stdout",
          "text": [
            "3.141592653589793\n",
            "25.0\n",
            "3.0\n"
          ]
        }
      ],
      "source": [
        "# mathモジュールを読み込む\n",
        "import math\n",
        "print(math.pi) #mathの中に定義してある円周率を表示\n",
        "print(math.pow(5,2)) #5の2乗\n",
        "print(math.sqrt(9)) # 9の平方根"
      ]
    },
    {
      "cell_type": "markdown",
      "source": [
        "## Numpy -- 数値計算用の便利なライブラリ\n",
        "https://numpy.org/"
      ],
      "metadata": {
        "id": "TwSzxs1p_X--"
      }
    },
    {
      "cell_type": "code",
      "source": [
        "# numpy をimport\n",
        "import numpy as np#←短い名前にしたい時とかにasで省略する。"
      ],
      "metadata": {
        "id": "fWmH3aV2-rqs"
      },
      "execution_count": 2,
      "outputs": []
    },
    {
      "cell_type": "markdown",
      "source": [
        "### numpy配列を作る(ndarray)←numpy data 配列"
      ],
      "metadata": {
        "id": "Tn9cEEE-ohmd"
      }
    },
    {
      "cell_type": "code",
      "source": [
        "# リストを引き渡してndarrayを作る\n",
        "a=np.array([5,7,3,1,4,3])\n",
        "print( a )"
      ],
      "metadata": {
        "colab": {
          "base_uri": "https://localhost:8080/"
        },
        "id": "JMqBiSbjAMSc",
        "outputId": "430e8ddb-d333-411e-a1ec-a6ec97cadbc1"
      },
      "execution_count": 3,
      "outputs": [
        {
          "output_type": "stream",
          "name": "stdout",
          "text": [
            "[5 7 3 1 4 3]\n"
          ]
        }
      ]
    },
    {
      "cell_type": "markdown",
      "source": [
        "## Numpyで配列の操作をしてみる\n",
        "###配列を構成しなおす"
      ],
      "metadata": {
        "id": "CYv5HOqVqGul"
      }
    },
    {
      "cell_type": "code",
      "source": [
        "#現在、aは1行一次元配列\n",
        "print(a)\n",
        "# aを3行2列の二次元配列に構成しなおす\n",
        "b=a.reshape([3,2])#新しい配列の構成を引数で指定する\n",
        "print(b)"
      ],
      "metadata": {
        "colab": {
          "base_uri": "https://localhost:8080/"
        },
        "id": "vS98CkJ2phEm",
        "outputId": "910b2902-5139-4479-b53a-a7e3aaca9f54"
      },
      "execution_count": 4,
      "outputs": [
        {
          "output_type": "stream",
          "name": "stdout",
          "text": [
            "[5 7 3 1 4 3]\n",
            "[[5 7]\n",
            " [3 1]\n",
            " [4 3]]\n"
          ]
        }
      ]
    },
    {
      "cell_type": "markdown",
      "source": [
        "###Numpy配列の中身を初期化して作る"
      ],
      "metadata": {
        "id": "BKO3s7uOsXB2"
      }
    },
    {
      "cell_type": "code",
      "source": [
        "# 3行4列の0が入った二次元配列を作る\n",
        "c=np.zeros((3,4))\n",
        "print(c)\n",
        "# ランダムな値が入った配列を作る\n",
        "np.random.seed(0)\n",
        "r=np.random.rand(3,4)\n",
        "print(r)"
      ],
      "metadata": {
        "colab": {
          "base_uri": "https://localhost:8080/"
        },
        "id": "MUNoBIX8q8lS",
        "outputId": "fcbeafb5-c765-4643-f5ee-89aaea044eff"
      },
      "execution_count": 5,
      "outputs": [
        {
          "output_type": "stream",
          "name": "stdout",
          "text": [
            "[[0. 0. 0. 0.]\n",
            " [0. 0. 0. 0.]\n",
            " [0. 0. 0. 0.]]\n",
            "[[0.5488135  0.71518937 0.60276338 0.54488318]\n",
            " [0.4236548  0.64589411 0.43758721 0.891773  ]\n",
            " [0.96366276 0.38344152 0.79172504 0.52889492]]\n"
          ]
        }
      ]
    },
    {
      "cell_type": "markdown",
      "source": [
        "## Numpyのスライスのやりかた\n",
        "### 基本\n",
        "スライスの指定の仕方[start:stop:step]で指定する\n",
        "始まり:終わり：飛ばす数"
      ],
      "metadata": {
        "id": "IUPfDDn9utjW"
      }
    },
    {
      "cell_type": "code",
      "source": [
        "# リストのスライス\n",
        "I =list(range(10))#O～9まで10件の要素のリスト\n",
        "print(I)\n",
        "print(I[ 4:8 ]) #[4:8]でスライス\n",
        "print(I[ : : -1]) #stepを-1でスライス"
      ],
      "metadata": {
        "colab": {
          "base_uri": "https://localhost:8080/"
        },
        "id": "TP9yPCCysuAs",
        "outputId": "d1e6e0ee-da0c-4e85-fc86-3dc6bb498f92"
      },
      "execution_count": 6,
      "outputs": [
        {
          "output_type": "stream",
          "name": "stdout",
          "text": [
            "[0, 1, 2, 3, 4, 5, 6, 7, 8, 9]\n",
            "[4, 5, 6, 7]\n",
            "[9, 8, 7, 6, 5, 4, 3, 2, 1, 0]\n"
          ]
        }
      ]
    },
    {
      "cell_type": "markdown",
      "source": [
        "### 1次元のNumpy配列(ndarray)におけるスライス"
      ],
      "metadata": {
        "id": "254W_vt1xNOf"
      }
    },
    {
      "cell_type": "code",
      "source": [
        "# 範囲を指定してndattayを作る\n",
        "a=np.arange(10) #0～9の10個のndarray\n",
        "print(a)\n",
        "print(a[2:8])\n",
        "print(a[2:8:2])# step2で2個飛ばし\n",
        "print(a[2:8:3])"
      ],
      "metadata": {
        "colab": {
          "base_uri": "https://localhost:8080/"
        },
        "id": "taaarCXvxJvK",
        "outputId": "84433051-7f6f-46fd-ac57-34b4d0761fe1"
      },
      "execution_count": 7,
      "outputs": [
        {
          "output_type": "stream",
          "name": "stdout",
          "text": [
            "[0 1 2 3 4 5 6 7 8 9]\n",
            "[2 3 4 5 6 7]\n",
            "[2 4 6]\n",
            "[2 5]\n"
          ]
        }
      ]
    },
    {
      "cell_type": "markdown",
      "source": [
        "### 1次元配列のnadarrayのスライスに代入"
      ],
      "metadata": {
        "id": "oT9XROwyzudZ"
      }
    },
    {
      "cell_type": "code",
      "source": [
        "print(a)\n",
        "a[3:6] = 100 #指定した範囲に特定の値を代入\n",
        "print(a)\n",
        "a[3:6] = [100, 200, 300] #指定した範囲にリストの値を代入\n",
        "print(a)\n",
        "#a[3:6] = [100, 200, 300,400] #3つの範囲を4つの要素で上書きしようとするとエラーになる。\n",
        "a = np.arange(10)\n",
        "print(a)\n",
        "a[2:8:2] = 100 #start2stop8にstep2で上書き\n",
        "print(a)"
      ],
      "metadata": {
        "colab": {
          "base_uri": "https://localhost:8080/"
        },
        "id": "-UJZUL4Wxmxf",
        "outputId": "0787d497-b032-4e7d-f27b-6dfc5ac9fac7"
      },
      "execution_count": 8,
      "outputs": [
        {
          "output_type": "stream",
          "name": "stdout",
          "text": [
            "[0 1 2 3 4 5 6 7 8 9]\n",
            "[  0   1   2 100 100 100   6   7   8   9]\n",
            "[  0   1   2 100 200 300   6   7   8   9]\n",
            "[0 1 2 3 4 5 6 7 8 9]\n",
            "[  0   1 100   3 100   5 100   7   8   9]\n"
          ]
        }
      ]
    },
    {
      "cell_type": "markdown",
      "source": [
        "### 多次元配列のndarrayのスライス"
      ],
      "metadata": {
        "id": "D7TNrSps2qMu"
      }
    },
    {
      "cell_type": "code",
      "source": [
        "# 3行4列の2次元配列を作る\n",
        "#今回は12個の要素を使う\n",
        "a = np.arange(12).reshape((3,4))# ←reshapeで3行4列にスライス。\n",
        "print(a)\n",
        "# 2行目から終わりまでの行 = [1:]\n",
        "# 2列目から4列目手前までの列=[ 1:3 ]\n",
        "print(a[ 1: , 1:3 ])# ←,より左側が行で右側が列\n",
        "b = np.arange(20).reshape(5,4)\n",
        "#9,10 13,14,17, 18の3行2列だけ抜き出す\n",
        "print(b[2: ,1:3])\n",
        "c = b[2: ,1:3]\n",
        "#スライスした部分が何行何列なのか\n",
        "print(c.shape) "
      ],
      "metadata": {
        "colab": {
          "base_uri": "https://localhost:8080/"
        },
        "id": "WsbPcYSRzlYI",
        "outputId": "6dfb5b88-f275-4ac6-eb59-5f9013ccaa16"
      },
      "execution_count": 9,
      "outputs": [
        {
          "output_type": "stream",
          "name": "stdout",
          "text": [
            "[[ 0  1  2  3]\n",
            " [ 4  5  6  7]\n",
            " [ 8  9 10 11]]\n",
            "[[ 5  6]\n",
            " [ 9 10]]\n",
            "[[ 9 10]\n",
            " [13 14]\n",
            " [17 18]]\n",
            "(3, 2)\n"
          ]
        }
      ]
    },
    {
      "cell_type": "markdown",
      "source": [
        "### 多次元のndarrayへのスライスでの代入"
      ],
      "metadata": {
        "id": "R6rANZ3Memko"
      }
    },
    {
      "cell_type": "code",
      "source": [
        "# 要素数12の3行4列の2次元配列を作る\n",
        "a = np.arange(12).reshape(3,4)\n",
        "print(a)\n",
        "# 5,6,9,10の部分をスライス\n",
        "print(a[ 1: , 1:3 ])\n",
        "a[1: , 1:3] = 100\n",
        "print(a)\n",
        "a = np.arange(12).reshape(3,4)\n",
        "# 多次元での上書きにリストを使う\n",
        "a[1:, 1:3] = [100, 200]\n",
        "print(a)\n",
        "# 多次元の上書きに2次元のリストを使う\n",
        "a[1:, 1:3] = [ [100, 200],[300, 400]]\n",
        "print(a)"
      ],
      "metadata": {
        "colab": {
          "base_uri": "https://localhost:8080/"
        },
        "id": "b9uNKkSTezX3",
        "outputId": "2b62da75-4dca-4302-84f6-c7113f37815a"
      },
      "execution_count": 10,
      "outputs": [
        {
          "output_type": "stream",
          "name": "stdout",
          "text": [
            "[[ 0  1  2  3]\n",
            " [ 4  5  6  7]\n",
            " [ 8  9 10 11]]\n",
            "[[ 5  6]\n",
            " [ 9 10]]\n",
            "[[  0   1   2   3]\n",
            " [  4 100 100   7]\n",
            " [  8 100 100  11]]\n",
            "[[  0   1   2   3]\n",
            " [  4 100 200   7]\n",
            " [  8 100 200  11]]\n",
            "[[  0   1   2   3]\n",
            " [  4 100 200   7]\n",
            " [  8 300 400  11]]\n"
          ]
        }
      ]
    },
    {
      "cell_type": "markdown",
      "source": [
        "### 多次元のndarrayへのstepを使ったスライスでの代入"
      ],
      "metadata": {
        "id": "nBh9g5vuztM2"
      }
    },
    {
      "cell_type": "code",
      "source": [
        "# 要素数12 3行4列のndarrayを作って変数aに代入\n",
        "a = np.arange(12).reshape((3, 4))#←ここで3行4列を指定\n",
        "print(a)\n",
        "# スライスにstepを使ってみる　4,6,8,10抜き出す\n",
        "print(a[ 1: , ::2])\n",
        "# 0,3,4,7 抜き出す\n",
        "print(a[ :2:, : :3])\n",
        "a[ 1: , ::2 ] = 100 # 4,6,8,10だったところを100で上書き\n",
        "print(a)\n",
        "# 4,6,8,10だったところをリストで上書き\n",
        "a[ 1: , ::2 ] = [100,200]\n",
        "print(a)\n",
        "# 4,6,8,10だったところを多次元のリストで上書き\n",
        "a[ 1: , ::2 ] = [ [ 100, 200],[300, 400 ] ]\n",
        "print(a)"
      ],
      "metadata": {
        "colab": {
          "base_uri": "https://localhost:8080/"
        },
        "id": "OaGdR7FthTuA",
        "outputId": "106909cd-54a4-49f5-fc94-882a74edf7ec"
      },
      "execution_count": 11,
      "outputs": [
        {
          "output_type": "stream",
          "name": "stdout",
          "text": [
            "[[ 0  1  2  3]\n",
            " [ 4  5  6  7]\n",
            " [ 8  9 10 11]]\n",
            "[[ 4  6]\n",
            " [ 8 10]]\n",
            "[[0 3]\n",
            " [4 7]]\n",
            "[[  0   1   2   3]\n",
            " [100   5 100   7]\n",
            " [100   9 100  11]]\n",
            "[[  0   1   2   3]\n",
            " [100   5 200   7]\n",
            " [100   9 200  11]]\n",
            "[[  0   1   2   3]\n",
            " [100   5 200   7]\n",
            " [300   9 400  11]]\n"
          ]
        }
      ]
    },
    {
      "cell_type": "code",
      "source": [],
      "metadata": {
        "id": "6ge-v_h9iV_0"
      },
      "execution_count": 11,
      "outputs": []
    }
  ]
}