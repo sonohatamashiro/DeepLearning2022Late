{
  "nbformat": 4,
  "nbformat_minor": 0,
  "metadata": {
    "colab": {
      "provenance": [],
      "collapsed_sections": [],
      "authorship_tag": "ABX9TyO1UoHXT5kjhZIf9Yj51vNU",
      "include_colab_link": true
    },
    "kernelspec": {
      "name": "python3",
      "display_name": "Python 3"
    },
    "language_info": {
      "name": "python"
    }
  },
  "cells": [
    {
      "cell_type": "markdown",
      "metadata": {
        "id": "view-in-github",
        "colab_type": "text"
      },
      "source": [
        "<a href=\"https://colab.research.google.com/github/sonohatamashiro/DeepLearning2022Late/blob/main/DogVsCat2022.ipynb\" target=\"_parent\"><img src=\"https://colab.research.google.com/assets/colab-badge.svg\" alt=\"Open In Colab\"/></a>"
      ]
    },
    {
      "cell_type": "markdown",
      "source": [
        "# Keras を使用したディープラーニングをやってみる\n",
        "#画像認識を行う"
      ],
      "metadata": {
        "id": "AQBmtWFC1BtX"
      }
    },
    {
      "cell_type": "markdown",
      "source": [
        "### ライブラリの読み込み"
      ],
      "metadata": {
        "id": "GYtL5tf31JKv"
      }
    },
    {
      "cell_type": "code",
      "execution_count": 1,
      "metadata": {
        "id": "7puJlKAR0fTH"
      },
      "outputs": [],
      "source": [
        "%matplotlib inline\n",
        "from keras.applications.vgg16 import VGG16,preprocess_input, decode_predictions\n",
        "from keras.preprocessing import image\n",
        "from PIL import Image\n",
        "import matplotlib.pyplot as plt\n",
        "import numpy as np\n",
        "#import sys#←システム関連の操作のこと。"
      ]
    },
    {
      "cell_type": "markdown",
      "source": [
        "###学習済みモデルの読み込み"
      ],
      "metadata": {
        "id": "kJ_KuyZI1Fbp"
      }
    },
    {
      "cell_type": "code",
      "source": [
        "model = VGG16( weights='imagenet' )\n",
        "#今回はmodelが学習モデル"
      ],
      "metadata": {
        "colab": {
          "base_uri": "https://localhost:8080/"
        },
        "id": "IWlKAcex0i6D",
        "outputId": "915264d8-0c93-4b2a-be6d-99f9c1ff7678"
      },
      "execution_count": 2,
      "outputs": [
        {
          "output_type": "stream",
          "name": "stdout",
          "text": [
            "Downloading data from https://storage.googleapis.com/tensorflow/keras-applications/vgg16/vgg16_weights_tf_dim_ordering_tf_kernels.h5\n",
            "553467904/553467096 [==============================] - 9s 0us/step\n",
            "553476096/553467096 [==============================] - 9s 0us/step\n"
          ]
        }
      ]
    },
    {
      "cell_type": "markdown",
      "source": [
        "### 画像判定のための関数"
      ],
      "metadata": {
        "id": "OomHKLTs1TrD"
      }
    },
    {
      "cell_type": "code",
      "source": [
        "def predict( filename, featuresize):#←ここでファイルの名前とサイズを貰う\n",
        "  img = image.load_img(filename, target_size=(224, 224))#←ここでimgにさっきのを渡す\n",
        "  x = image.img_to_array(img)\n",
        "  x = np.expand_dims( x, axis=0 )#←xが配列の関数\n",
        "  # 学習モデルで判定を実行\n",
        "  preds = model.predict( preprocess_input(x))#←predictで実行。返した値をresultsに入れる\n",
        "  results = decode_predictions( preds, top=featuresize )[0]\n",
        "  return results\n",
        "#関数終わり"
      ],
      "metadata": {
        "id": "161FoFDQ0lP1"
      },
      "execution_count": 3,
      "outputs": []
    },
    {
      "cell_type": "markdown",
      "source": [
        "### 画像表示のための関数"
      ],
      "metadata": {
        "id": "mRT8ttG81LkY"
      }
    },
    {
      "cell_type": "code",
      "source": [
        "def showimg( filename, title, i):#←ファイルの名前などの取得\n",
        "  im = Image.open(filename) #画像ファイルを開く\n",
        "  im_list = np.array(im) #画像ビットデータをndarrayにする\n",
        "  plt.subplot( 2, 5, i)\n",
        "  plt.title( title )\n",
        "  plt.axis( \"off\" )#←今回、罫線はoff\n",
        "  plt.imshow(im_list)#←写真を参照\n",
        "# 関数終わり(゜゜)～(゜゜)～(゜゜)～"
      ],
      "metadata": {
        "id": "FYqP0tpy0nUF"
      },
      "execution_count": 4,
      "outputs": []
    },
    {
      "cell_type": "markdown",
      "source": [
        "### Kaggeにある画像データを利用する\n",
        "https://www.kaggle.com/<br>\n",
        "犬猫判定用の画像データ<br>\n",
        "https://www.kaggle.com/c/dogs-vs-cats/data"
      ],
      "metadata": {
        "id": "j1sRPmmA1bNO"
      }
    },
    {
      "cell_type": "markdown",
      "source": [
        "##指定されたURLからファイルをダウンロードする"
      ],
      "metadata": {
        "id": "GA0TW5rQ1fV6"
      }
    },
    {
      "cell_type": "code",
      "source": [
        "# wgetでwebからファイルをダウンロードする\n",
        "# GoogleColabでコマンドを実行するときは、先頭に!マークを必ずつけること\n",
        "# 小さいファイルをGoogleドライブからDLする時は、以下のようにURLをつけるだけでOK!\n",
        "#!wget#←リナックスなどの言語を実行する時は先頭に!をつける！！(=ﾟωﾟ)ﾉ\n",
        "!wget --load-cookies /tmp/cookies.txt \"https://drive.google.com/uc?export=download&confirm=$(wget --quiet --save-cookies /tmp/cookies.txt --keep-session-cookies --no-check-certificate 'https://drive.google.com/uc?export=download&id=1WQ9KZ-St4BqUWkqYJZYBIXQ8tT92DW_2' -O- | sed -rn 's/.*confirm=([0-9A-Za-z_]+).*/\\1\\n/p')&id=1WQ9KZ-St4BqUWkqYJZYBIXQ8tT92DW_2\" -O train.zip && rm -rf /tmp/cookies.txt\n",
        "!wget --load-cookies /tmp/cookies.txt \"https://drive.google.com/uc?export=download&confirm=$(wget --quiet --save-cookies /tmp/cookies.txt --keep-session-cookies --no-check-certificate 'https://drive.google.com/uc?export=download&id=1WQ9KZ-St4BqUWkqYJZYBIXQ8tT92DW_2' -O- | sed -rn 's/.*confirm=([0-9A-Za-z_]+).*/\\1\\n/p')&id=1WQ9KZ-St4BqUWkqYJZYBIXQ8tT92DW_2\" -O test.zip && rm -rf /tmp/cookies.txt"
      ],
      "metadata": {
        "colab": {
          "base_uri": "https://localhost:8080/"
        },
        "id": "RMxOB0LZ0pUk",
        "outputId": "bb0b0dfa-25cb-40d5-a231-bc896e90e14e"
      },
      "execution_count": 5,
      "outputs": [
        {
          "output_type": "stream",
          "name": "stdout",
          "text": [
            "--2022-10-04 00:56:57--  https://drive.google.com/uc?export=download&confirm=t&id=1WQ9KZ-St4BqUWkqYJZYBIXQ8tT92DW_2\n",
            "Resolving drive.google.com (drive.google.com)... 142.251.8.113, 142.251.8.139, 142.251.8.100, ...\n",
            "Connecting to drive.google.com (drive.google.com)|142.251.8.113|:443... connected.\n",
            "HTTP request sent, awaiting response... 303 See Other\n",
            "Location: https://doc-0k-1s-docs.googleusercontent.com/docs/securesc/ha0ro937gcuc7l7deffksulhg5h7mbp1/ftumakgabc31r5ef069kunbgpa4r0h33/1664844975000/14334177730080324288/*/1WQ9KZ-St4BqUWkqYJZYBIXQ8tT92DW_2?e=download&uuid=8f00ec09-bd30-4370-94d4-39c33b97733f [following]\n",
            "Warning: wildcards not supported in HTTP.\n",
            "--2022-10-04 00:56:58--  https://doc-0k-1s-docs.googleusercontent.com/docs/securesc/ha0ro937gcuc7l7deffksulhg5h7mbp1/ftumakgabc31r5ef069kunbgpa4r0h33/1664844975000/14334177730080324288/*/1WQ9KZ-St4BqUWkqYJZYBIXQ8tT92DW_2?e=download&uuid=8f00ec09-bd30-4370-94d4-39c33b97733f\n",
            "Resolving doc-0k-1s-docs.googleusercontent.com (doc-0k-1s-docs.googleusercontent.com)... 108.177.125.132, 2404:6800:4008:c01::84\n",
            "Connecting to doc-0k-1s-docs.googleusercontent.com (doc-0k-1s-docs.googleusercontent.com)|108.177.125.132|:443... connected.\n",
            "HTTP request sent, awaiting response... 200 OK\n",
            "Length: 569872234 (543M) [application/x-zip-compressed]\n",
            "Saving to: ‘train.zip’\n",
            "\n",
            "train.zip           100%[===================>] 543.47M   170MB/s    in 3.2s    \n",
            "\n",
            "2022-10-04 00:57:01 (170 MB/s) - ‘train.zip’ saved [569872234/569872234]\n",
            "\n",
            "--2022-10-04 00:57:03--  https://drive.google.com/uc?export=download&confirm=t&id=1WQ9KZ-St4BqUWkqYJZYBIXQ8tT92DW_2\n",
            "Resolving drive.google.com (drive.google.com)... 142.251.8.113, 142.251.8.139, 142.251.8.100, ...\n",
            "Connecting to drive.google.com (drive.google.com)|142.251.8.113|:443... connected.\n",
            "HTTP request sent, awaiting response... 303 See Other\n",
            "Location: https://doc-0k-1s-docs.googleusercontent.com/docs/securesc/ha0ro937gcuc7l7deffksulhg5h7mbp1/ftumakgabc31r5ef069kunbgpa4r0h33/1664844975000/14334177730080324288/*/1WQ9KZ-St4BqUWkqYJZYBIXQ8tT92DW_2?e=download&uuid=476e4457-cd2d-485a-8108-c92715a93421 [following]\n",
            "Warning: wildcards not supported in HTTP.\n",
            "--2022-10-04 00:57:04--  https://doc-0k-1s-docs.googleusercontent.com/docs/securesc/ha0ro937gcuc7l7deffksulhg5h7mbp1/ftumakgabc31r5ef069kunbgpa4r0h33/1664844975000/14334177730080324288/*/1WQ9KZ-St4BqUWkqYJZYBIXQ8tT92DW_2?e=download&uuid=476e4457-cd2d-485a-8108-c92715a93421\n",
            "Resolving doc-0k-1s-docs.googleusercontent.com (doc-0k-1s-docs.googleusercontent.com)... 108.177.125.132, 2404:6800:4008:c01::84\n",
            "Connecting to doc-0k-1s-docs.googleusercontent.com (doc-0k-1s-docs.googleusercontent.com)|108.177.125.132|:443... connected.\n",
            "HTTP request sent, awaiting response... 200 OK\n",
            "Length: 569872234 (543M) [application/x-zip-compressed]\n",
            "Saving to: ‘test.zip’\n",
            "\n",
            "test.zip            100%[===================>] 543.47M   252MB/s    in 2.2s    \n",
            "\n",
            "2022-10-04 00:57:06 (252 MB/s) - ‘test.zip’ saved [569872234/569872234]\n",
            "\n"
          ]
        }
      ]
    },
    {
      "cell_type": "markdown",
      "source": [
        "##Colbに自分のGoogleアカウントのドライブをマウントする"
      ],
      "metadata": {
        "id": "c4Mp0GW32GGV"
      }
    },
    {
      "cell_type": "code",
      "source": [
        "# googleドライブを操作するモジュールをimport\n",
        "from google.colab import drive\n",
        "# googleドライブをマウント\n",
        "drive.mount('/content/drive')\n"
      ],
      "metadata": {
        "colab": {
          "base_uri": "https://localhost:8080/"
        },
        "id": "Iny1CIdZ0r-Y",
        "outputId": "a5783d07-c835-4255-b370-8a2bb5bc9ab4"
      },
      "execution_count": 6,
      "outputs": [
        {
          "output_type": "stream",
          "name": "stdout",
          "text": [
            "Mounted at /content/drive\n"
          ]
        }
      ]
    },
    {
      "cell_type": "markdown",
      "source": [
        "#DLしてきたファイルをマウントしたディレクトリにコピーする"
      ],
      "metadata": {
        "id": "ouZuZliK1kAC"
      }
    },
    {
      "cell_type": "code",
      "source": [
        "# コピーファイルを置くディレクトリを作る\n",
        "import os\n",
        "dir_path = \"/content/drive/My Drive/2022LATE\"\n",
        "os.makedirs( dir_path, exist_ok=True)\n",
        "!pwd #今いるディレクトリを表示\n",
        "!cp train.zip \"/content/drive/My Drive/2022LATE\" # ファイルをコピー\n",
        "#↑ファイルをコピーする際には\"\"(ダブルコーテーション)の横に半角スペースを置かないと文字を連結しちゃってコピーできない。\n",
        "# test.zipはいったん使わないのでコピーしない"
      ],
      "metadata": {
        "colab": {
          "base_uri": "https://localhost:8080/"
        },
        "id": "MlaOAIc70xMU",
        "outputId": "03df03a3-588e-4f24-8072-724983157e9d"
      },
      "execution_count": 7,
      "outputs": [
        {
          "output_type": "stream",
          "name": "stdout",
          "text": [
            "/content\n"
          ]
        }
      ]
    },
    {
      "cell_type": "markdown",
      "source": [
        "##GoogleドライブからColabへファイルをコピー"
      ],
      "metadata": {
        "id": "mL3KM1gB4OMj"
      }
    },
    {
      "cell_type": "code",
      "source": [
        "!cp \"/content/drive/My Drive/2022LATE/train.zip\" ."
      ],
      "metadata": {
        "id": "WdxIBAw223Po"
      },
      "execution_count": 8,
      "outputs": []
    },
    {
      "cell_type": "markdown",
      "source": [
        "##zipファイルを解凍する"
      ],
      "metadata": {
        "id": "PQE6cIVf4kRq"
      }
    },
    {
      "cell_type": "code",
      "source": [
        "# unzipコマンドで解凍\n",
        "!unzip -o -q \"train.zip\" \n",
        "print(\"zip解凍完了\")"
      ],
      "metadata": {
        "colab": {
          "base_uri": "https://localhost:8080/"
        },
        "id": "c4vWK1x74fcA",
        "outputId": "8c77aa6f-fda3-421b-ad9b-34499d7c0e8b"
      },
      "execution_count": 9,
      "outputs": [
        {
          "output_type": "stream",
          "name": "stdout",
          "text": [
            "zip解凍完了\n"
          ]
        }
      ]
    },
    {
      "cell_type": "markdown",
      "source": [
        "## 解凍した画像を使って画像判定させる"
      ],
      "metadata": {
        "id": "iWpQzbqm5wmY"
      }
    },
    {
      "cell_type": "code",
      "source": [
        "# 画像を指定する変数\n",
        "filename = \"koori.jpg\"#←表示させたい画像を指定 \n",
        "plt.figure( figsize=(20, 10) )#←ファイルサイズを指定\n",
        "for i in range(1):#←何回画像をループさせるか。\n",
        "  showimg(filename, \"What' s this??\", i+1 )\n",
        "#ループ終わり\n",
        "plt.show()#←画像の表示\n",
        "\n",
        "result = predict( filename, 10 )#←表示した画像を判定\n",
        "for result in result:\n",
        "  print(result)"
      ],
      "metadata": {
        "colab": {
          "base_uri": "https://localhost:8080/",
          "height": 418
        },
        "id": "lCWOZO_b4_Eq",
        "outputId": "23c40a8d-ac4d-4b7d-9043-b16e3493aab0"
      },
      "execution_count": 22,
      "outputs": [
        {
          "output_type": "display_data",
          "data": {
            "text/plain": [
              "<Figure size 1440x720 with 1 Axes>"
            ],
            "image/png": "[encoded data removed]"
          },
          "metadata": {
            "needs_background": "light"
          }
        },
        {
          "output_type": "stream",
          "name": "stdout",
          "text": [
            "('n03908714', 'pencil_sharpener', 0.58297384)\n",
            "('n04251144', 'snorkel', 0.09717129)\n",
            "('n03127747', 'crash_helmet', 0.09531765)\n",
            "('n03724870', 'mask', 0.029048761)\n",
            "('n04209133', 'shower_cap', 0.027928993)\n",
            "('n03935335', 'piggy_bank', 0.013916856)\n",
            "('n02807133', 'bathing_cap', 0.012487927)\n",
            "('n04254120', 'soap_dispenser', 0.0124649275)\n",
            "('n03840681', 'ocarina', 0.010524718)\n",
            "('n02910353', 'buckle', 0.008627149)\n"
          ]
        }
      ]
    },
    {
      "cell_type": "code",
      "source": [
        "  "
      ],
      "metadata": {
        "id": "RG7wDwgtgcfI"
      },
      "execution_count": null,
      "outputs": []
    }
  ]
}