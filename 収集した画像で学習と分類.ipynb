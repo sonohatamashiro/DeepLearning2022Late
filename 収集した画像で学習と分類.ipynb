{
  "nbformat": 4,
  "nbformat_minor": 0,
  "metadata": {
    "colab": {
      "provenance": [],
      "authorship_tag": "ABX9TyNA+NXrXblxIR9iP6pPOCzA",
      "include_colab_link": true
    },
    "kernelspec": {
      "name": "python3",
      "display_name": "Python 3"
    },
    "language_info": {
      "name": "python"
    },
    "accelerator": "GPU",
    "gpuClass": "standard"
  },
  "cells": [
    {
      "cell_type": "markdown",
      "metadata": {
        "id": "view-in-github",
        "colab_type": "text"
      },
      "source": [
        "<a href=\"https://colab.research.google.com/github/sonohatamashiro/DeepLearning2022Late/blob/main/%E5%8F%8E%E9%9B%86%E3%81%97%E3%81%9F%E7%94%BB%E5%83%8F%E3%81%A7%E5%AD%A6%E7%BF%92%E3%81%A8%E5%88%86%E9%A1%9E.ipynb\" target=\"_parent\"><img src=\"https://colab.research.google.com/assets/colab-badge.svg\" alt=\"Open In Colab\"/></a>"
      ]
    },
    {
      "cell_type": "markdown",
      "source": [
        "# 収集した画像をColabにUPして分類させる"
      ],
      "metadata": {
        "id": "rs_GkJmBWMtk"
      }
    },
    {
      "cell_type": "markdown",
      "source": [
        "### ファイルのフォルダを準備する"
      ],
      "metadata": {
        "id": "dwx7PfLGWTRA"
      }
    },
    {
      "cell_type": "code",
      "execution_count": 10,
      "metadata": {
        "id": "9E-o2IH7VVEb"
      },
      "outputs": [],
      "source": [
        "import os\n",
        "os.makedirs('sample',exist_ok=True) # 分類対象の画像のフォルダを作成\n",
        "os.makedirs('output/dog/sample',exist_ok=True) # 犬と判定された時の置き場所\n",
        "os.makedirs('output/cat/sample',exist_ok=True) # 猫と判定された時の置き場所\n",
        "os.makedirs('img/deep_learning/dog',exist_ok=True) # 犬の画像用の収集画像\n",
        "os.makedirs('img/deep_learning/cat',exist_ok=True) # 猫の画像用の収集画像"
      ]
    },
    {
      "cell_type": "markdown",
      "source": [
        "## 必要なライブラリをimport"
      ],
      "metadata": {
        "id": "nF5GDrqrYMAg"
      }
    },
    {
      "cell_type": "code",
      "source": [
        "import cv2\n",
        "import numpy as np\n",
        "import glob as glob\n",
        "from sklearn.model_selection import train_test_split\n",
        "from keras.utils import np_utils"
      ],
      "metadata": {
        "id": "BBs-At3cXqXI"
      },
      "execution_count": 11,
      "outputs": []
    },
    {
      "cell_type": "markdown",
      "source": [
        "## 分類(クラス)の名前をフォルダ名(dog,cat)から引用する"
      ],
      "metadata": {
        "id": "xHpV0haDZkVY"
      }
    },
    {
      "cell_type": "code",
      "source": [
        "path = \"img/deep_learning\" # dogとcatフォルダがある場所\n",
        "folders = os.listdir(path)\n",
        "# ２つのパスからフォルダ名を抜き出す\n",
        "classes = [f for f in folders if os.path.isdir(os.path.join(path,f))]\n",
        "print(classes)\n",
        "n_classes = len(classes)\n",
        "print(n_classes)"
      ],
      "metadata": {
        "colab": {
          "base_uri": "https://localhost:8080/"
        },
        "id": "vnOzDl0bZRIl",
        "outputId": "49c850fb-01fb-4503-fc8e-22b06587910e"
      },
      "execution_count": 12,
      "outputs": [
        {
          "output_type": "stream",
          "name": "stdout",
          "text": [
            "['dog', 'cat']\n",
            "2\n"
          ]
        }
      ]
    },
    {
      "cell_type": "markdown",
      "source": [
        "## 画像を読み込みリサイズ、整形する"
      ],
      "metadata": {
        "id": "g_H0KtKi9YAA"
      }
    },
    {
      "cell_type": "code",
      "source": [
        "# 画像とラベルのための配列\n",
        "X = [ ] # 画像(学習データ用の配列)\n",
        "Y = [ ] # ラベル(正解用の配列)\n",
        "\n",
        "# 画像を読み込みつつリサイズする\n",
        "for label, class_name in enumerate(classes):\n",
        "  files = glob.glob( path + \"/\" + class_name + \"/*jpg\" )\n",
        "  for file in files:\n",
        "    img = cv2.imread(file)\n",
        "    img = cv2.resize( img, dsize=(224,224) )\n",
        "    X.append(img)\n",
        "    Y.append(label)\n",
        "    # 内部ループ終わり\n",
        "# 外部ループ終わり\n"
      ],
      "metadata": {
        "id": "614epMV3ahZf"
      },
      "execution_count": 13,
      "outputs": []
    },
    {
      "cell_type": "markdown",
      "source": [
        "## 0～255のビットデータ値を、学習のために0～1に変換(正規化) 学習精度を上げる"
      ],
      "metadata": {
        "id": "XW0yy2SOEs17"
      }
    },
    {
      "cell_type": "code",
      "source": [
        "X = np.array( X ) # 配列XをNumpy配列に変換\n",
        "X = X.astype('float32') # 小数型に変換\n",
        "X /=255.0\n",
        "# ラベルもnumpyの配列に変換\n",
        "Y = np.array( Y )\n",
        "Y = np_utils.to_categorical( Y, n_classes)"
      ],
      "metadata": {
        "id": "bPNK5kZCEZMZ"
      },
      "execution_count": 14,
      "outputs": []
    },
    {
      "cell_type": "markdown",
      "source": [
        "### 整形したデータを学習用とテスト検証用に振り分ける"
      ],
      "metadata": {
        "id": "E0ABPPKOGNbR"
      }
    },
    {
      "cell_type": "code",
      "source": [
        "# 学習データ8割、テスト検証用が2割にわける\n",
        "X_train, X_test, Y_train, Y_test = train_test_split( X, Y, test_size=0.2 )\n",
        "# 学習データ8割(画像問題データ)\n",
        "print( X_train.shape )\n",
        "# テストデータ2割(画像問題データ)\n",
        "print( X_test.shape )\n",
        "# 学習データ8割(正解ラベル)\n",
        "print( Y_train.shape )\n",
        "# テストデータ2割(正解ラベル)\n",
        "print( Y_test.shape)"
      ],
      "metadata": {
        "colab": {
          "base_uri": "https://localhost:8080/"
        },
        "id": "9t_tsaJwGHng",
        "outputId": "035ad61c-49c9-45ce-94a2-fe57642d9cb5"
      },
      "execution_count": 15,
      "outputs": [
        {
          "output_type": "stream",
          "name": "stdout",
          "text": [
            "(120, 224, 224, 3)\n",
            "(31, 224, 224, 3)\n",
            "(120, 2)\n",
            "(31, 2)\n"
          ]
        }
      ]
    },
    {
      "cell_type": "markdown",
      "source": [
        "## 準備したデータを学習させていく"
      ],
      "metadata": {
        "id": "3J2J0TcbLMUc"
      }
    },
    {
      "cell_type": "markdown",
      "source": [
        "### 学習に必要なライブラリをimport"
      ],
      "metadata": {
        "id": "UKRL3ZQWLSwG"
      }
    },
    {
      "cell_type": "code",
      "source": [
        "from keras.applications.vgg16 import VGG16\n",
        "from keras.models import Sequential\n",
        "from keras.models import Model\n",
        "from keras.layers import Input, Activation, Dense, Flatten, Dropout\n",
        "from keras.optimizers import Adam"
      ],
      "metadata": {
        "id": "GxylK7_PIaew"
      },
      "execution_count": 16,
      "outputs": []
    },
    {
      "cell_type": "markdown",
      "source": [
        "## モデルのVGG16をアレンジしていく"
      ],
      "metadata": {
        "id": "MqegrMPjTCfC"
      }
    },
    {
      "cell_type": "code",
      "source": [
        "#VGG16 入力層を用意する(定義する)\n",
        "input_tensor = Input(shape=(224, 224, 3))\n",
        "# VGG16のインスタンスを作る(最後のsoftmaxの1000層を無効にして省く)\n",
        "base_model = VGG16( weights='imagenet', input_tensor=input_tensor, include_top=False)\n"
      ],
      "metadata": {
        "colab": {
          "base_uri": "https://localhost:8080/"
        },
        "id": "wDxlA0m_Maki",
        "outputId": "3d024a14-04da-46ae-ecf8-9d6c4773d97a"
      },
      "execution_count": 17,
      "outputs": [
        {
          "output_type": "stream",
          "name": "stdout",
          "text": [
            "Downloading data from https://storage.googleapis.com/tensorflow/keras-applications/vgg16/vgg16_weights_tf_dim_ordering_tf_kernels_notop.h5\n",
            "58889256/58889256 [==============================] - 3s 0us/step\n"
          ]
        }
      ]
    },
    {
      "cell_type": "markdown",
      "source": [
        "### 1000分類のsoftmaxを外した代わりに、2つに分類するsoftmax層を追加する"
      ],
      "metadata": {
        "id": "pDUtBAZ-Wgxf"
      }
    },
    {
      "cell_type": "code",
      "source": [
        "# 追加する層の作成\n",
        "top_model = Sequential( ) # ラッピングする層\n",
        "top_model.add( Flatten( input_shape=base_model.output_shape[1: ] ))\n",
        "top_model.add( Dense( n_classes, activation='softmax' ))"
      ],
      "metadata": {
        "id": "-ebcvtDHWQwp"
      },
      "execution_count": 18,
      "outputs": []
    },
    {
      "cell_type": "markdown",
      "source": [
        "### 最後のSOFTMAXを外したモデル(basemodel)と追加用の2つに分類するSOFTMAX層のモデル(top_model)を繋げる"
      ],
      "metadata": {
        "id": "-S_YB2sqaCGP"
      }
    },
    {
      "cell_type": "code",
      "source": [
        "model = Model(inputs=base_model.input, outputs=top_model(base_model.output))"
      ],
      "metadata": {
        "id": "wYyJOIbbX8Ql"
      },
      "execution_count": 19,
      "outputs": []
    },
    {
      "cell_type": "code",
      "source": [],
      "metadata": {
        "id": "Zz5pUmiUR_8G"
      },
      "execution_count": null,
      "outputs": []
    },
    {
      "cell_type": "markdown",
      "source": [
        "### 時間短縮のために、15層までを外す"
      ],
      "metadata": {
        "id": "a8gnddl5biKr"
      }
    },
    {
      "cell_type": "code",
      "source": [
        "# ループしながら15層もでを無効にする\n",
        "for layer in model.layers[:15]:\n",
        "  layer.trainable = False # 15層までは学習しない\n",
        "#ループ終わり\n",
        "print( '# layers=', len(model.layers) ) # モデルの層の数を表示"
      ],
      "metadata": {
        "colab": {
          "base_uri": "https://localhost:8080/"
        },
        "id": "3uXrea8Na5Vt",
        "outputId": "6ee3adc4-6e20-4bff-fa7f-6b1c7fe7a90b"
      },
      "execution_count": 20,
      "outputs": [
        {
          "output_type": "stream",
          "name": "stdout",
          "text": [
            "# layers= 20\n"
          ]
        }
      ]
    },
    {
      "cell_type": "markdown",
      "source": [
        "## 学習モデルをコンパイルする"
      ],
      "metadata": {
        "id": "hdcsXbW8cgYu"
      }
    },
    {
      "cell_type": "code",
      "source": [
        "# 損失はクロスエントロピー法で算出、最適化はADAM、指標は精度でみる\n",
        "model.compile( loss='categorical_crossentropy',\n",
        "              optimizer='adam', metrics=['accuracy'])  "
      ],
      "metadata": {
        "id": "kNMnwzaEbgOn"
      },
      "execution_count": 21,
      "outputs": []
    },
    {
      "cell_type": "markdown",
      "source": [
        "### コンパイルしたモデルを表示"
      ],
      "metadata": {
        "id": "5-rUTl4weZZq"
      }
    },
    {
      "cell_type": "code",
      "source": [
        "model.summary( )"
      ],
      "metadata": {
        "colab": {
          "base_uri": "https://localhost:8080/"
        },
        "id": "k-nDyue6eTuH",
        "outputId": "af6f786f-ce1c-48a0-9770-da4ce73c002b"
      },
      "execution_count": 22,
      "outputs": [
        {
          "output_type": "stream",
          "name": "stdout",
          "text": [
            "Model: \"model\"\n",
            "_________________________________________________________________\n",
            " Layer (type)                Output Shape              Param #   \n",
            "=================================================================\n",
            " input_1 (InputLayer)        [(None, 224, 224, 3)]     0         \n",
            "                                                                 \n",
            " block1_conv1 (Conv2D)       (None, 224, 224, 64)      1792      \n",
            "                                                                 \n",
            " block1_conv2 (Conv2D)       (None, 224, 224, 64)      36928     \n",
            "                                                                 \n",
            " block1_pool (MaxPooling2D)  (None, 112, 112, 64)      0         \n",
            "                                                                 \n",
            " block2_conv1 (Conv2D)       (None, 112, 112, 128)     73856     \n",
            "                                                                 \n",
            " block2_conv2 (Conv2D)       (None, 112, 112, 128)     147584    \n",
            "                                                                 \n",
            " block2_pool (MaxPooling2D)  (None, 56, 56, 128)       0         \n",
            "                                                                 \n",
            " block3_conv1 (Conv2D)       (None, 56, 56, 256)       295168    \n",
            "                                                                 \n",
            " block3_conv2 (Conv2D)       (None, 56, 56, 256)       590080    \n",
            "                                                                 \n",
            " block3_conv3 (Conv2D)       (None, 56, 56, 256)       590080    \n",
            "                                                                 \n",
            " block3_pool (MaxPooling2D)  (None, 28, 28, 256)       0         \n",
            "                                                                 \n",
            " block4_conv1 (Conv2D)       (None, 28, 28, 512)       1180160   \n",
            "                                                                 \n",
            " block4_conv2 (Conv2D)       (None, 28, 28, 512)       2359808   \n",
            "                                                                 \n",
            " block4_conv3 (Conv2D)       (None, 28, 28, 512)       2359808   \n",
            "                                                                 \n",
            " block4_pool (MaxPooling2D)  (None, 14, 14, 512)       0         \n",
            "                                                                 \n",
            " block5_conv1 (Conv2D)       (None, 14, 14, 512)       2359808   \n",
            "                                                                 \n",
            " block5_conv2 (Conv2D)       (None, 14, 14, 512)       2359808   \n",
            "                                                                 \n",
            " block5_conv3 (Conv2D)       (None, 14, 14, 512)       2359808   \n",
            "                                                                 \n",
            " block5_pool (MaxPooling2D)  (None, 7, 7, 512)         0         \n",
            "                                                                 \n",
            " sequential (Sequential)     (None, 2)                 50178     \n",
            "                                                                 \n",
            "=================================================================\n",
            "Total params: 14,764,866\n",
            "Trainable params: 7,129,602\n",
            "Non-trainable params: 7,635,264\n",
            "_________________________________________________________________\n"
          ]
        }
      ]
    },
    {
      "cell_type": "markdown",
      "source": [
        "## コンパイルしたモデルで収集したが画像データを学習させる"
      ],
      "metadata": {
        "id": "JVi6CNi3ffgp"
      }
    },
    {
      "cell_type": "code",
      "source": [
        "model.fit( X_train, Y_train, epochs=20,batch_size=16)"
      ],
      "metadata": {
        "colab": {
          "base_uri": "https://localhost:8080/"
        },
        "id": "-nFN0ptiepq4",
        "outputId": "1b1453b7-4489-4a9d-919b-84ad51524aa5"
      },
      "execution_count": 23,
      "outputs": [
        {
          "output_type": "stream",
          "name": "stdout",
          "text": [
            "Epoch 1/20\n",
            "8/8 [==============================] - 12s 226ms/step - loss: 1.9323 - accuracy: 0.4917\n",
            "Epoch 2/20\n",
            "8/8 [==============================] - 1s 93ms/step - loss: 0.8670 - accuracy: 0.5333\n",
            "Epoch 3/20\n",
            "8/8 [==============================] - 1s 95ms/step - loss: 0.7767 - accuracy: 0.4917\n",
            "Epoch 4/20\n",
            "8/8 [==============================] - 1s 92ms/step - loss: 0.7037 - accuracy: 0.5000\n",
            "Epoch 5/20\n",
            "8/8 [==============================] - 1s 92ms/step - loss: 0.7154 - accuracy: 0.5167\n",
            "Epoch 6/20\n",
            "8/8 [==============================] - 1s 92ms/step - loss: 0.7467 - accuracy: 0.5833\n",
            "Epoch 7/20\n",
            "8/8 [==============================] - 1s 92ms/step - loss: 0.6930 - accuracy: 0.5167\n",
            "Epoch 8/20\n",
            "8/8 [==============================] - 1s 91ms/step - loss: 0.6930 - accuracy: 0.5167\n",
            "Epoch 9/20\n",
            "8/8 [==============================] - 1s 98ms/step - loss: 0.6930 - accuracy: 0.5333\n",
            "Epoch 10/20\n",
            "8/8 [==============================] - 1s 85ms/step - loss: 0.7540 - accuracy: 0.5833\n",
            "Epoch 11/20\n",
            "8/8 [==============================] - 1s 84ms/step - loss: 0.8549 - accuracy: 0.5250\n",
            "Epoch 12/20\n",
            "8/8 [==============================] - 1s 84ms/step - loss: 0.6929 - accuracy: 0.5167\n",
            "Epoch 13/20\n",
            "8/8 [==============================] - 1s 84ms/step - loss: 0.6928 - accuracy: 0.5167\n",
            "Epoch 14/20\n",
            "8/8 [==============================] - 1s 84ms/step - loss: 0.6928 - accuracy: 0.5167\n",
            "Epoch 15/20\n",
            "8/8 [==============================] - 1s 83ms/step - loss: 0.6928 - accuracy: 0.5167\n",
            "Epoch 16/20\n",
            "8/8 [==============================] - 1s 84ms/step - loss: 0.6928 - accuracy: 0.5167\n",
            "Epoch 17/20\n",
            "8/8 [==============================] - 1s 84ms/step - loss: 0.6928 - accuracy: 0.5167\n",
            "Epoch 18/20\n",
            "8/8 [==============================] - 1s 84ms/step - loss: 0.6927 - accuracy: 0.5167\n",
            "Epoch 19/20\n",
            "8/8 [==============================] - 1s 84ms/step - loss: 0.6927 - accuracy: 0.5167\n",
            "Epoch 20/20\n",
            "8/8 [==============================] - 1s 83ms/step - loss: 0.6927 - accuracy: 0.5167\n"
          ]
        },
        {
          "output_type": "execute_result",
          "data": {
            "text/plain": [
              "<keras.callbacks.History at 0x7f8b2a62cc70>"
            ]
          },
          "metadata": {},
          "execution_count": 23
        }
      ]
    },
    {
      "cell_type": "markdown",
      "source": [
        "## 学習の成果を指標(accuracy)で確認"
      ],
      "metadata": {
        "id": "hmB8iLMGh2E4"
      }
    },
    {
      "cell_type": "code",
      "source": [
        "score = model.evaluate( X_test, Y_test, batch_size=16 )"
      ],
      "metadata": {
        "colab": {
          "base_uri": "https://localhost:8080/"
        },
        "id": "_q91Z8hBf72l",
        "outputId": "2c2d6564-58c3-47fa-b839-3b0f79952b3f"
      },
      "execution_count": 24,
      "outputs": [
        {
          "output_type": "stream",
          "name": "stdout",
          "text": [
            "2/2 [==============================] - 2s 2s/step - loss: 0.6950 - accuracy: 0.4516\n"
          ]
        }
      ]
    },
    {
      "cell_type": "markdown",
      "source": [
        "### 作成した学習モデルとクラス分類名を保存"
      ],
      "metadata": {
        "id": "zX3Z2QsZilQN"
      }
    },
    {
      "cell_type": "code",
      "source": [
        "import pickle\n",
        "# vクラス分類の保存\n",
        "pickle.dump( classes, open('classes.sav', 'wb') )# オブジェクトをバイナリファイルで保存\n",
        "# 学習モデルの保存\n",
        "model.save( 'cnn.h5' )"
      ],
      "metadata": {
        "id": "lfNpHOVai-xA"
      },
      "execution_count": 25,
      "outputs": []
    },
    {
      "cell_type": "markdown",
      "source": [
        "## 保存したクラス分類と学習モデルを読み込んで使う"
      ],
      "metadata": {
        "id": "MUascfwxkAlZ"
      }
    },
    {
      "cell_type": "code",
      "source": [
        "# ライブラリのimport\n",
        "from keras.models import load_model\n",
        "import pickle\n",
        "import cv2\n",
        "import glob"
      ],
      "metadata": {
        "id": "TY1K9VsejN1B"
      },
      "execution_count": 26,
      "outputs": []
    },
    {
      "cell_type": "markdown",
      "source": [
        "# ファイルを読み込んでオブジェクトとしてよみがえらせる"
      ],
      "metadata": {
        "id": "7-bhupSok18t"
      }
    },
    {
      "cell_type": "code",
      "source": [
        "model = load_model('cnn.h5')\n",
        "classes = pickle.load( open( 'classes.sav', 'rb' ) )"
      ],
      "metadata": {
        "id": "X-tIoTxmkwTw"
      },
      "execution_count": 27,
      "outputs": []
    },
    {
      "cell_type": "markdown",
      "source": [
        "### sample画像を読み込む"
      ],
      "metadata": {
        "id": "RzXTzbmwTrlT"
      }
    },
    {
      "cell_type": "code",
      "source": [
        "files = glob.glob( 'sample/*' )\n",
        "print(files)"
      ],
      "metadata": {
        "id": "9cKy26sglCSe",
        "colab": {
          "base_uri": "https://localhost:8080/"
        },
        "outputId": "b2104a98-3495-495f-f97e-ef5677203c9b"
      },
      "execution_count": 28,
      "outputs": [
        {
          "output_type": "stream",
          "name": "stdout",
          "text": [
            "['sample/dog_36.jpg', 'sample/cat_44.jpg', 'sample/dog_60.jpg']\n"
          ]
        }
      ]
    },
    {
      "cell_type": "markdown",
      "source": [
        "## ファイルパスから画像を読み込み、学習モデルに判定させ、核当するoutputフォルダにコピーを書き込む"
      ],
      "metadata": {
        "id": "ocP8dpYOVnrF"
      }
    },
    {
      "cell_type": "code",
      "source": [
        "for file in files: #ファイルの数だけループ\n",
        "  img = cv2.imread(file) # 画像データをよっみこみ\n",
        "  # 判定のためにimgを加工したimg2を作る\n",
        "  img2 = cv2.resize( img, dsize=(224,224) ) # (224,224)にリサイズ\n",
        "  img2 = img2.astype('float32')\n",
        "  img2 = img2/255.0 # 0～255.0だったデータを0.0～1.0に変換\n",
        "  img2 = img2[None, ...] # 1次元配列に変換\n",
        "  # 正規化したデータを判定\n",
        "  result = model.predict(img2)\n",
        "  print(result) # 画面に生で出力\n",
        "  # 確率が高いクラスを取得\n",
        "  pred = result.argmax( )\n",
        "  print( pred,str(classes[pred]) )\n",
        "  # 判定したクラス分類のフォルダのほうに、画像データを書き込む\n",
        "  cv2.imwrite('output/' + str(classes[pred]) +'/' + file, img )\n",
        "#ループ終わり"
      ],
      "metadata": {
        "colab": {
          "base_uri": "https://localhost:8080/"
        },
        "id": "yM_mWVu2Vluc",
        "outputId": "a179c088-d1b7-4b08-db22-5f99e2ed1ffa"
      },
      "execution_count": 30,
      "outputs": [
        {
          "output_type": "stream",
          "name": "stdout",
          "text": [
            "1/1 [==============================] - 0s 15ms/step\n",
            "[[0.50882006 0.49117997]]\n",
            "0 dog\n",
            "1/1 [==============================] - 0s 16ms/step\n",
            "[[0.50882006 0.49117997]]\n",
            "0 dog\n",
            "1/1 [==============================] - 0s 18ms/step\n",
            "[[0.50882006 0.49117997]]\n",
            "0 dog\n"
          ]
        }
      ]
    },
    {
      "cell_type": "code",
      "source": [],
      "metadata": {
        "id": "2Ob-upnjZuGa"
      },
      "execution_count": null,
      "outputs": []
    }
  ]
}